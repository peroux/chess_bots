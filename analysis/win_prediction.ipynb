{
 "cells": [
  {
   "cell_type": "code",
   "execution_count": 304,
   "id": "14575d26-47a8-4e03-ae92-8d75d5f924ee",
   "metadata": {},
   "outputs": [],
   "source": [
    "from sklearn.naive_bayes import GaussianNB # Import GaussianClassifier\n",
    "from sklearn.tree import DecisionTreeClassifier # Import Decision Tree Classifier\n",
    "from sklearn.neighbors import KNeighborsClassifier#import KNN \n",
    "from sklearn.model_selection import train_test_split # Import train_test_split function\n",
    "from sklearn import metrics #Import scikit-learn metrics for evaluation metrics\n",
    "from sklearn import model_selection\n",
    "from sklearn.metrics import confusion_matrix #to get access to confusion matrix\n",
    "from sklearn.metrics import ConfusionMatrixDisplay# to get a display\n",
    "from sklearn import model_selection\n",
    "from sklearn.model_selection import KFold \n",
    "from sklearn.model_selection import LeaveOneOut\n",
    "from sklearn.model_selection import LeavePOut\n",
    "from sklearn.model_selection import ShuffleSplit\n",
    "from sklearn.model_selection import StratifiedKFold\n",
    "from sklearn.model_selection import cross_val_score\n",
    "from sklearn.model_selection import cross_val_predict\n",
    "from sklearn.metrics import f1_score\n",
    "from sklearn.model_selection import GridSearchCV\n",
    "from sklearn.metrics import f1_score\n",
    "from sklearn.metrics import make_scorer\n",
    "from sklearn.preprocessing import StandardScaler\n",
    "from sklearn.tree import DecisionTreeClassifier\n",
    "from sklearn.neighbors import KNeighborsClassifier\n",
    "from sklearn.model_selection import cross_val_score\n",
    "from sklearn.metrics import make_scorer, f1_score\n",
    "from scipy.stats import ttest_rel, wilcoxon\n",
    "\n",
    "import ast\n",
    "import pandas as pd\n",
    "import matplotlib.pyplot as plt\n",
    "import numpy as np"
   ]
  },
  {
   "cell_type": "markdown",
   "id": "c7ecee73-61b4-4674-ad7c-4b5026dc0d51",
   "metadata": {
    "jp-MarkdownHeadingCollapsed": true
   },
   "source": [
    "# Read and clean data"
   ]
  },
  {
   "cell_type": "code",
   "execution_count": 248,
   "id": "0966fd99-21ed-478f-9b50-7978aa7beab3",
   "metadata": {},
   "outputs": [],
   "source": [
    "data = pd.read_csv(\"21henchen_games_data.csv\")\n",
    "data['white_ACPL'] = 0\n",
    "data['black_ACPL'] = 0"
   ]
  },
  {
   "cell_type": "code",
   "execution_count": 249,
   "id": "40239486-8907-449f-8a5a-8cdf600a319d",
   "metadata": {},
   "outputs": [],
   "source": [
    "for game in range(len(data)):\n",
    "    \n",
    "    evaluations = data['Evaluation'][game]\n",
    "    evaluations = ast.literal_eval(evaluations) # Convert from string to dict\n",
    "\n",
    "    white_CPL = 0 # CPL -> CentiPawn Loss\n",
    "    black_CPL = 0\n",
    "    white_move_count = 0\n",
    "    black_move_count = 0\n",
    "\n",
    "    for move_eval in evaluations:\n",
    "        player = move_eval['player']\n",
    "        centipawn_loss = move_eval['centipawn_loss']\n",
    "\n",
    "        if player == 'White':\n",
    "            white_CPL += centipawn_loss\n",
    "            white_move_count += 1\n",
    "        else:\n",
    "            black_CPL += centipawn_loss\n",
    "            black_move_count += 1\n",
    "    white_ACPL = white_CPL // white_move_count if white_move_count > 0 else 0\n",
    "    black_ACPL = black_CPL // black_move_count if black_move_count > 0 else 0\n",
    "\n",
    "    data.loc[game, 'white_ACPL'] = white_ACPL\n",
    "    data.loc[game, 'black_ACPL'] = black_ACPL"
   ]
  },
  {
   "cell_type": "code",
   "execution_count": 251,
   "id": "e8de8e9e-9a72-4ea2-8c46-0aa57c17b991",
   "metadata": {
    "scrolled": true
   },
   "outputs": [
    {
     "data": {
      "text/html": [
       "<div>\n",
       "<style scoped>\n",
       "    .dataframe tbody tr th:only-of-type {\n",
       "        vertical-align: middle;\n",
       "    }\n",
       "\n",
       "    .dataframe tbody tr th {\n",
       "        vertical-align: top;\n",
       "    }\n",
       "\n",
       "    .dataframe thead th {\n",
       "        text-align: right;\n",
       "    }\n",
       "</style>\n",
       "<table border=\"1\" class=\"dataframe\">\n",
       "  <thead>\n",
       "    <tr style=\"text-align: right;\">\n",
       "      <th></th>\n",
       "      <th>Event</th>\n",
       "      <th>Site</th>\n",
       "      <th>Date</th>\n",
       "      <th>White</th>\n",
       "      <th>Black</th>\n",
       "      <th>Result</th>\n",
       "      <th>WhiteElo</th>\n",
       "      <th>BlackElo</th>\n",
       "      <th>ECO</th>\n",
       "      <th>Opening</th>\n",
       "      <th>Termination</th>\n",
       "      <th>Moves</th>\n",
       "      <th>Evaluation</th>\n",
       "      <th>white_ACPL</th>\n",
       "      <th>black_ACPL</th>\n",
       "    </tr>\n",
       "  </thead>\n",
       "  <tbody>\n",
       "    <tr>\n",
       "      <th>0</th>\n",
       "      <td>ACLVB Open Chess Tournament - Round 1</td>\n",
       "      <td>Chess.com</td>\n",
       "      <td>2018.01.17</td>\n",
       "      <td>21chenhen</td>\n",
       "      <td>jamesst87</td>\n",
       "      <td>1-0</td>\n",
       "      <td>874</td>\n",
       "      <td>1074</td>\n",
       "      <td>B12</td>\n",
       "      <td>B12</td>\n",
       "      <td>21chenhen won by resignation</td>\n",
       "      <td>['e2e4', 'c7c6', 'd2d4', 'd7d5', 'e4e5', 'c8f5...</td>\n",
       "      <td>[{'player': 'White', 'move_number': 1, 'move':...</td>\n",
       "      <td>36</td>\n",
       "      <td>84</td>\n",
       "    </tr>\n",
       "    <tr>\n",
       "      <th>1</th>\n",
       "      <td>Live Chess</td>\n",
       "      <td>Chess.com</td>\n",
       "      <td>2023.03.09</td>\n",
       "      <td>AshuL4</td>\n",
       "      <td>21chenhen</td>\n",
       "      <td>1/2-1/2</td>\n",
       "      <td>1578</td>\n",
       "      <td>1471</td>\n",
       "      <td>B34</td>\n",
       "      <td>B34</td>\n",
       "      <td>Game drawn by repetition</td>\n",
       "      <td>['e2e4', 'c7c5', 'g1f3', 'g7g6', 'd2d4', 'c5d4...</td>\n",
       "      <td>[{'player': 'White', 'move_number': 1, 'move':...</td>\n",
       "      <td>54</td>\n",
       "      <td>41</td>\n",
       "    </tr>\n",
       "    <tr>\n",
       "      <th>2</th>\n",
       "      <td>Live Chess</td>\n",
       "      <td>Chess.com</td>\n",
       "      <td>2018.01.09</td>\n",
       "      <td>21chenhen</td>\n",
       "      <td>alton_mies</td>\n",
       "      <td>0-1</td>\n",
       "      <td>877</td>\n",
       "      <td>771</td>\n",
       "      <td>C00</td>\n",
       "      <td>C00</td>\n",
       "      <td>alton_mies won by checkmate</td>\n",
       "      <td>['e2e4', 'd7d5', 'b1c3', 'e7e6', 'd1e2', 'f8d6...</td>\n",
       "      <td>[{'player': 'White', 'move_number': 1, 'move':...</td>\n",
       "      <td>110</td>\n",
       "      <td>54</td>\n",
       "    </tr>\n",
       "    <tr>\n",
       "      <th>3</th>\n",
       "      <td>Live Chess</td>\n",
       "      <td>Chess.com</td>\n",
       "      <td>2023.01.21</td>\n",
       "      <td>koza1987</td>\n",
       "      <td>21chenhen</td>\n",
       "      <td>1-0</td>\n",
       "      <td>1289</td>\n",
       "      <td>1290</td>\n",
       "      <td>B20</td>\n",
       "      <td>B20</td>\n",
       "      <td>koza1987 won on time</td>\n",
       "      <td>['e2e4', 'c7c5', 'c2c4', 'g7g6', 'd2d3', 'f8g7...</td>\n",
       "      <td>[{'player': 'White', 'move_number': 1, 'move':...</td>\n",
       "      <td>46</td>\n",
       "      <td>53</td>\n",
       "    </tr>\n",
       "    <tr>\n",
       "      <th>4</th>\n",
       "      <td>Let's Play</td>\n",
       "      <td>Chess.com</td>\n",
       "      <td>2020.10.06</td>\n",
       "      <td>21chenhen</td>\n",
       "      <td>micktasty</td>\n",
       "      <td>1-0</td>\n",
       "      <td>851</td>\n",
       "      <td>777</td>\n",
       "      <td>A01</td>\n",
       "      <td>A01</td>\n",
       "      <td>21chenhen won on time</td>\n",
       "      <td>['b2b3', 'c7c5', 'c1b2', 'e7e6', 'f2f4', 'c5c4...</td>\n",
       "      <td>[{'player': 'White', 'move_number': 1, 'move':...</td>\n",
       "      <td>28</td>\n",
       "      <td>56</td>\n",
       "    </tr>\n",
       "    <tr>\n",
       "      <th>...</th>\n",
       "      <td>...</td>\n",
       "      <td>...</td>\n",
       "      <td>...</td>\n",
       "      <td>...</td>\n",
       "      <td>...</td>\n",
       "      <td>...</td>\n",
       "      <td>...</td>\n",
       "      <td>...</td>\n",
       "      <td>...</td>\n",
       "      <td>...</td>\n",
       "      <td>...</td>\n",
       "      <td>...</td>\n",
       "      <td>...</td>\n",
       "      <td>...</td>\n",
       "      <td>...</td>\n",
       "    </tr>\n",
       "    <tr>\n",
       "      <th>1511</th>\n",
       "      <td>Live Chess</td>\n",
       "      <td>Chess.com</td>\n",
       "      <td>2020.09.30</td>\n",
       "      <td>manuelperez2020</td>\n",
       "      <td>21chenhen</td>\n",
       "      <td>1-0</td>\n",
       "      <td>988</td>\n",
       "      <td>995</td>\n",
       "      <td>B12</td>\n",
       "      <td>B12</td>\n",
       "      <td>manuelperez2020 won by checkmate</td>\n",
       "      <td>['d2d4', 'd7d5', 'b1c3', 'g8f6', 'f2f3', 'c7c6...</td>\n",
       "      <td>[{'player': 'White', 'move_number': 1, 'move':...</td>\n",
       "      <td>72</td>\n",
       "      <td>134</td>\n",
       "    </tr>\n",
       "    <tr>\n",
       "      <th>1512</th>\n",
       "      <td>Live Chess</td>\n",
       "      <td>Chess.com</td>\n",
       "      <td>2024.06.03</td>\n",
       "      <td>Bigwillicious</td>\n",
       "      <td>21chenhen</td>\n",
       "      <td>0-1</td>\n",
       "      <td>1437</td>\n",
       "      <td>1432</td>\n",
       "      <td>B00</td>\n",
       "      <td>B00</td>\n",
       "      <td>21chenhen won by resignation</td>\n",
       "      <td>['e2e4', 'b7b6', 'f2f4', 'c8b7', 'e4e5', 'e7e6...</td>\n",
       "      <td>[{'player': 'White', 'move_number': 1, 'move':...</td>\n",
       "      <td>72</td>\n",
       "      <td>39</td>\n",
       "    </tr>\n",
       "    <tr>\n",
       "      <th>1513</th>\n",
       "      <td>Live Chess</td>\n",
       "      <td>Chess.com</td>\n",
       "      <td>2022.10.17</td>\n",
       "      <td>21chenhen</td>\n",
       "      <td>KingKullar</td>\n",
       "      <td>0-1</td>\n",
       "      <td>871</td>\n",
       "      <td>968</td>\n",
       "      <td>A01</td>\n",
       "      <td>A01</td>\n",
       "      <td>KingKullar won by checkmate</td>\n",
       "      <td>['b2b3', 'd7d5', 'c1b2', 'b8c6', 'e2e3', 'e7e5...</td>\n",
       "      <td>[{'player': 'White', 'move_number': 1, 'move':...</td>\n",
       "      <td>106</td>\n",
       "      <td>87</td>\n",
       "    </tr>\n",
       "    <tr>\n",
       "      <th>1514</th>\n",
       "      <td>Live Chess</td>\n",
       "      <td>Chess.com</td>\n",
       "      <td>2024.05.20</td>\n",
       "      <td>21chenhen</td>\n",
       "      <td>Cesarcossani</td>\n",
       "      <td>1-0</td>\n",
       "      <td>1483</td>\n",
       "      <td>1414</td>\n",
       "      <td>A01</td>\n",
       "      <td>A01</td>\n",
       "      <td>21chenhen won by checkmate</td>\n",
       "      <td>['b2b3', 'e7e5', 'c1b2', 'e5e4', 'f2f3', 'e4f3...</td>\n",
       "      <td>[{'player': 'White', 'move_number': 1, 'move':...</td>\n",
       "      <td>69</td>\n",
       "      <td>99</td>\n",
       "    </tr>\n",
       "    <tr>\n",
       "      <th>1515</th>\n",
       "      <td>Live Chess</td>\n",
       "      <td>Chess.com</td>\n",
       "      <td>2024.05.18</td>\n",
       "      <td>21chenhen</td>\n",
       "      <td>Slim_Shady07</td>\n",
       "      <td>0-1</td>\n",
       "      <td>1457</td>\n",
       "      <td>1469</td>\n",
       "      <td>A04</td>\n",
       "      <td>A04</td>\n",
       "      <td>Slim_Shady07 won by resignation</td>\n",
       "      <td>['b2b3', 'b7b6', 'c1b2', 'c8b7', 'e2e3', 'e7e6...</td>\n",
       "      <td>[{'player': 'White', 'move_number': 1, 'move':...</td>\n",
       "      <td>64</td>\n",
       "      <td>20</td>\n",
       "    </tr>\n",
       "  </tbody>\n",
       "</table>\n",
       "<p>1516 rows × 15 columns</p>\n",
       "</div>"
      ],
      "text/plain": [
       "                                      Event       Site        Date  \\\n",
       "0     ACLVB Open Chess Tournament - Round 1  Chess.com  2018.01.17   \n",
       "1                                Live Chess  Chess.com  2023.03.09   \n",
       "2                                Live Chess  Chess.com  2018.01.09   \n",
       "3                                Live Chess  Chess.com  2023.01.21   \n",
       "4                                Let's Play  Chess.com  2020.10.06   \n",
       "...                                     ...        ...         ...   \n",
       "1511                             Live Chess  Chess.com  2020.09.30   \n",
       "1512                             Live Chess  Chess.com  2024.06.03   \n",
       "1513                             Live Chess  Chess.com  2022.10.17   \n",
       "1514                             Live Chess  Chess.com  2024.05.20   \n",
       "1515                             Live Chess  Chess.com  2024.05.18   \n",
       "\n",
       "                White         Black   Result  WhiteElo  BlackElo  ECO Opening  \\\n",
       "0           21chenhen     jamesst87      1-0       874      1074  B12     B12   \n",
       "1              AshuL4     21chenhen  1/2-1/2      1578      1471  B34     B34   \n",
       "2           21chenhen    alton_mies      0-1       877       771  C00     C00   \n",
       "3            koza1987     21chenhen      1-0      1289      1290  B20     B20   \n",
       "4           21chenhen     micktasty      1-0       851       777  A01     A01   \n",
       "...               ...           ...      ...       ...       ...  ...     ...   \n",
       "1511  manuelperez2020     21chenhen      1-0       988       995  B12     B12   \n",
       "1512    Bigwillicious     21chenhen      0-1      1437      1432  B00     B00   \n",
       "1513        21chenhen    KingKullar      0-1       871       968  A01     A01   \n",
       "1514        21chenhen  Cesarcossani      1-0      1483      1414  A01     A01   \n",
       "1515        21chenhen  Slim_Shady07      0-1      1457      1469  A04     A04   \n",
       "\n",
       "                           Termination  \\\n",
       "0         21chenhen won by resignation   \n",
       "1             Game drawn by repetition   \n",
       "2          alton_mies won by checkmate   \n",
       "3                 koza1987 won on time   \n",
       "4                21chenhen won on time   \n",
       "...                                ...   \n",
       "1511  manuelperez2020 won by checkmate   \n",
       "1512      21chenhen won by resignation   \n",
       "1513       KingKullar won by checkmate   \n",
       "1514        21chenhen won by checkmate   \n",
       "1515   Slim_Shady07 won by resignation   \n",
       "\n",
       "                                                  Moves  \\\n",
       "0     ['e2e4', 'c7c6', 'd2d4', 'd7d5', 'e4e5', 'c8f5...   \n",
       "1     ['e2e4', 'c7c5', 'g1f3', 'g7g6', 'd2d4', 'c5d4...   \n",
       "2     ['e2e4', 'd7d5', 'b1c3', 'e7e6', 'd1e2', 'f8d6...   \n",
       "3     ['e2e4', 'c7c5', 'c2c4', 'g7g6', 'd2d3', 'f8g7...   \n",
       "4     ['b2b3', 'c7c5', 'c1b2', 'e7e6', 'f2f4', 'c5c4...   \n",
       "...                                                 ...   \n",
       "1511  ['d2d4', 'd7d5', 'b1c3', 'g8f6', 'f2f3', 'c7c6...   \n",
       "1512  ['e2e4', 'b7b6', 'f2f4', 'c8b7', 'e4e5', 'e7e6...   \n",
       "1513  ['b2b3', 'd7d5', 'c1b2', 'b8c6', 'e2e3', 'e7e5...   \n",
       "1514  ['b2b3', 'e7e5', 'c1b2', 'e5e4', 'f2f3', 'e4f3...   \n",
       "1515  ['b2b3', 'b7b6', 'c1b2', 'c8b7', 'e2e3', 'e7e6...   \n",
       "\n",
       "                                             Evaluation  white_ACPL  \\\n",
       "0     [{'player': 'White', 'move_number': 1, 'move':...          36   \n",
       "1     [{'player': 'White', 'move_number': 1, 'move':...          54   \n",
       "2     [{'player': 'White', 'move_number': 1, 'move':...         110   \n",
       "3     [{'player': 'White', 'move_number': 1, 'move':...          46   \n",
       "4     [{'player': 'White', 'move_number': 1, 'move':...          28   \n",
       "...                                                 ...         ...   \n",
       "1511  [{'player': 'White', 'move_number': 1, 'move':...          72   \n",
       "1512  [{'player': 'White', 'move_number': 1, 'move':...          72   \n",
       "1513  [{'player': 'White', 'move_number': 1, 'move':...         106   \n",
       "1514  [{'player': 'White', 'move_number': 1, 'move':...          69   \n",
       "1515  [{'player': 'White', 'move_number': 1, 'move':...          64   \n",
       "\n",
       "      black_ACPL  \n",
       "0             84  \n",
       "1             41  \n",
       "2             54  \n",
       "3             53  \n",
       "4             56  \n",
       "...          ...  \n",
       "1511         134  \n",
       "1512          39  \n",
       "1513          87  \n",
       "1514          99  \n",
       "1515          20  \n",
       "\n",
       "[1516 rows x 15 columns]"
      ]
     },
     "execution_count": 251,
     "metadata": {},
     "output_type": "execute_result"
    }
   ],
   "source": [
    "data"
   ]
  },
  {
   "cell_type": "code",
   "execution_count": null,
   "id": "ff04bd77-15b4-4de8-8cc4-4800317b69bf",
   "metadata": {},
   "outputs": [],
   "source": []
  },
  {
   "cell_type": "code",
   "execution_count": 253,
   "id": "ff0bff3c-8935-41c2-a120-460c08bb5cde",
   "metadata": {},
   "outputs": [],
   "source": [
    "def get_result(row):\n",
    "    if row['Result'] == '1-0':\n",
    "        return 2  # White won\n",
    "    elif row['Result'] == '0-1':\n",
    "        return 0  # Black won\n",
    "    elif row['Result'] == '1/2-1/2':\n",
    "        return 1  # Draw\n",
    "\n",
    "data['Result'] = data.apply(get_result, axis=1)"
   ]
  },
  {
   "cell_type": "markdown",
   "id": "2bb145f2-af63-4b9e-ba34-ee2f39595a85",
   "metadata": {},
   "source": [
    "# Train models - 3 types"
   ]
  },
  {
   "cell_type": "markdown",
   "id": "8b01329d-10f5-41a8-9274-0dec2ec0b111",
   "metadata": {},
   "source": [
    "## First model set: These models aim to determine if all important features of my chess data creates strong models\n"
   ]
  },
  {
   "cell_type": "markdown",
   "id": "0db14618-0daa-4933-9638-870473cdbb3e",
   "metadata": {},
   "source": [
    "### Decision Tree model"
   ]
  },
  {
   "cell_type": "code",
   "execution_count": 257,
   "id": "a98ed3c6-c697-4019-9996-03f06d4faa5b",
   "metadata": {},
   "outputs": [],
   "source": [
    "key_data = data[[\"WhiteElo\",\"BlackElo\",\"white_ACPL\",'black_ACPL',\"Result\"]]"
   ]
  },
  {
   "cell_type": "code",
   "execution_count": 258,
   "id": "a76f6b12-270a-4ab3-8614-ed5031b0e7b3",
   "metadata": {},
   "outputs": [
    {
     "data": {
      "text/html": [
       "<div>\n",
       "<style scoped>\n",
       "    .dataframe tbody tr th:only-of-type {\n",
       "        vertical-align: middle;\n",
       "    }\n",
       "\n",
       "    .dataframe tbody tr th {\n",
       "        vertical-align: top;\n",
       "    }\n",
       "\n",
       "    .dataframe thead th {\n",
       "        text-align: right;\n",
       "    }\n",
       "</style>\n",
       "<table border=\"1\" class=\"dataframe\">\n",
       "  <thead>\n",
       "    <tr style=\"text-align: right;\">\n",
       "      <th></th>\n",
       "      <th>WhiteElo</th>\n",
       "      <th>BlackElo</th>\n",
       "      <th>white_ACPL</th>\n",
       "      <th>black_ACPL</th>\n",
       "      <th>Result</th>\n",
       "    </tr>\n",
       "  </thead>\n",
       "  <tbody>\n",
       "    <tr>\n",
       "      <th>0</th>\n",
       "      <td>874</td>\n",
       "      <td>1074</td>\n",
       "      <td>36</td>\n",
       "      <td>84</td>\n",
       "      <td>2</td>\n",
       "    </tr>\n",
       "    <tr>\n",
       "      <th>1</th>\n",
       "      <td>1578</td>\n",
       "      <td>1471</td>\n",
       "      <td>54</td>\n",
       "      <td>41</td>\n",
       "      <td>1</td>\n",
       "    </tr>\n",
       "    <tr>\n",
       "      <th>2</th>\n",
       "      <td>877</td>\n",
       "      <td>771</td>\n",
       "      <td>110</td>\n",
       "      <td>54</td>\n",
       "      <td>0</td>\n",
       "    </tr>\n",
       "    <tr>\n",
       "      <th>3</th>\n",
       "      <td>1289</td>\n",
       "      <td>1290</td>\n",
       "      <td>46</td>\n",
       "      <td>53</td>\n",
       "      <td>2</td>\n",
       "    </tr>\n",
       "    <tr>\n",
       "      <th>4</th>\n",
       "      <td>851</td>\n",
       "      <td>777</td>\n",
       "      <td>28</td>\n",
       "      <td>56</td>\n",
       "      <td>2</td>\n",
       "    </tr>\n",
       "    <tr>\n",
       "      <th>...</th>\n",
       "      <td>...</td>\n",
       "      <td>...</td>\n",
       "      <td>...</td>\n",
       "      <td>...</td>\n",
       "      <td>...</td>\n",
       "    </tr>\n",
       "    <tr>\n",
       "      <th>1511</th>\n",
       "      <td>988</td>\n",
       "      <td>995</td>\n",
       "      <td>72</td>\n",
       "      <td>134</td>\n",
       "      <td>2</td>\n",
       "    </tr>\n",
       "    <tr>\n",
       "      <th>1512</th>\n",
       "      <td>1437</td>\n",
       "      <td>1432</td>\n",
       "      <td>72</td>\n",
       "      <td>39</td>\n",
       "      <td>0</td>\n",
       "    </tr>\n",
       "    <tr>\n",
       "      <th>1513</th>\n",
       "      <td>871</td>\n",
       "      <td>968</td>\n",
       "      <td>106</td>\n",
       "      <td>87</td>\n",
       "      <td>0</td>\n",
       "    </tr>\n",
       "    <tr>\n",
       "      <th>1514</th>\n",
       "      <td>1483</td>\n",
       "      <td>1414</td>\n",
       "      <td>69</td>\n",
       "      <td>99</td>\n",
       "      <td>2</td>\n",
       "    </tr>\n",
       "    <tr>\n",
       "      <th>1515</th>\n",
       "      <td>1457</td>\n",
       "      <td>1469</td>\n",
       "      <td>64</td>\n",
       "      <td>20</td>\n",
       "      <td>0</td>\n",
       "    </tr>\n",
       "  </tbody>\n",
       "</table>\n",
       "<p>1516 rows × 5 columns</p>\n",
       "</div>"
      ],
      "text/plain": [
       "      WhiteElo  BlackElo  white_ACPL  black_ACPL  Result\n",
       "0          874      1074          36          84       2\n",
       "1         1578      1471          54          41       1\n",
       "2          877       771         110          54       0\n",
       "3         1289      1290          46          53       2\n",
       "4          851       777          28          56       2\n",
       "...        ...       ...         ...         ...     ...\n",
       "1511       988       995          72         134       2\n",
       "1512      1437      1432          72          39       0\n",
       "1513       871       968         106          87       0\n",
       "1514      1483      1414          69          99       2\n",
       "1515      1457      1469          64          20       0\n",
       "\n",
       "[1516 rows x 5 columns]"
      ]
     },
     "execution_count": 258,
     "metadata": {},
     "output_type": "execute_result"
    }
   ],
   "source": [
    "key_data"
   ]
  },
  {
   "cell_type": "code",
   "execution_count": 264,
   "id": "89794a2c-aa12-436c-8cbe-c89fea539ae5",
   "metadata": {},
   "outputs": [],
   "source": [
    "X = key_data[key_data.columns[:-1]] # Features\n",
    "y = key_data['Result'] # Target variable"
   ]
  },
  {
   "cell_type": "code",
   "execution_count": 266,
   "id": "ce957f87-0bc5-4804-aa65-17598833180b",
   "metadata": {},
   "outputs": [],
   "source": [
    "X_train, X_test, y_train, y_test = train_test_split(X, y, test_size=0.3, random_state=407) # 70/30 train test split"
   ]
  },
  {
   "cell_type": "code",
   "execution_count": 268,
   "id": "5a0371d9-e6b1-4685-9137-073d67ecd326",
   "metadata": {},
   "outputs": [
    {
     "name": "stdout",
     "output_type": "stream",
     "text": [
      "Accuracy: 0.6989010989010989\n"
     ]
    }
   ],
   "source": [
    "# Create Decision Tree classifer object\n",
    "oneTree = DecisionTreeClassifier()\n",
    "# Train Decision Tree Classifer\n",
    "oneTree.fit(X_train,y_train)\n",
    "y_predDT = oneTree.predict(X_test)\n",
    "# Model Accuracy, how often is the classifier correct?\n",
    "print(f\"Accuracy: {metrics.accuracy_score(y_test, y_predDT)}\")"
   ]
  },
  {
   "cell_type": "code",
   "execution_count": 270,
   "id": "abbbb97b-9c8b-4907-a7d5-f76c090e28eb",
   "metadata": {},
   "outputs": [
    {
     "data": {
      "image/png": "[encoded data removed]",
      "text/plain": [
       "<Figure size 640x480 with 2 Axes>"
      ]
     },
     "metadata": {},
     "output_type": "display_data"
    }
   ],
   "source": [
    "conf_mat = confusion_matrix(y_test, y_predDT)\n",
    "cm_display = ConfusionMatrixDisplay(conf_mat).plot()"
   ]
  },
  {
   "cell_type": "code",
   "execution_count": 272,
   "id": "5a6ed6e4-7fc9-45a9-b753-9dbb88341e70",
   "metadata": {},
   "outputs": [
    {
     "name": "stdout",
     "output_type": "stream",
     "text": [
      "              precision    recall  f1-score   support\n",
      "\n",
      "           0       0.73      0.72      0.72       198\n",
      "           1       0.09      0.12      0.10        26\n",
      "           2       0.77      0.74      0.76       231\n",
      "\n",
      "    accuracy                           0.70       455\n",
      "   macro avg       0.53      0.53      0.53       455\n",
      "weighted avg       0.71      0.70      0.70       455\n",
      "\n"
     ]
    }
   ],
   "source": [
    "#evaluation metrics\n",
    "print(metrics.classification_report(y_test,y_predDT))"
   ]
  },
  {
   "cell_type": "markdown",
   "id": "e5ffcaa9-7f8e-480f-b4a7-6322a77c8397",
   "metadata": {},
   "source": [
    "### KNN model"
   ]
  },
  {
   "cell_type": "code",
   "execution_count": 275,
   "id": "0937c3dc-1251-4f5e-8b10-50555b83992e",
   "metadata": {},
   "outputs": [
    {
     "name": "stdout",
     "output_type": "stream",
     "text": [
      "Accuracy: 0.7824175824175824\n"
     ]
    }
   ],
   "source": [
    "#Fix data for KNN\n",
    "# Import module to standardize the scale\n",
    "from sklearn.preprocessing import StandardScaler\n",
    "# Create instance (i.e. object) of the standard scaler\n",
    "scaler = StandardScaler()\n",
    "# Fit the object to all the data except the Target Class or Outcome\n",
    "# use the .drop() method to gather all features except Target Class/outcome\n",
    "# axis -> argument refers to columns; a 0 would represent rows a 1 is column\n",
    "scaler.fit(key_data.drop('Result', axis=1))\n",
    "# Use scaler object to conduct a transforms\n",
    "scaled_features = scaler.transform(key_data.drop('Result',axis=1))\n",
    "#Here we have the normalized dataset, minus the target/output column which is the last col\n",
    "data_feat = pd.DataFrame(scaled_features, columns= key_data.columns[:-1])\n",
    "#split dataset in features and target variable\n",
    "X = data_feat\n",
    "y = key_data['Result'] # Target variable\n",
    "# Split dataset into training set and test set\n",
    "X2_train, X2_test, y2_train, y2_test = train_test_split(X, y, test_size=0.3, random_state=1) # 70% training and 30% test\n",
    "\n",
    "weightedChebKNN = KNeighborsClassifier(n_neighbors=3,weights='distance', metric='chebyshev')\n",
    "weightedChebKNN .fit(X2_train,y2_train)\n",
    "y_predKNN = weightedChebKNN .predict(X2_test)\n",
    "# Model Accuracy, how often is the classifier correct?\n",
    "print(\"Accuracy:\",metrics.accuracy_score(y2_test, y_predKNN)) "
   ]
  },
  {
   "cell_type": "code",
   "execution_count": 277,
   "id": "dc2121bf-bad4-446e-a511-c16c2e442f44",
   "metadata": {},
   "outputs": [
    {
     "data": {
      "image/png": "[encoded data removed]",
      "text/plain": [
       "<Figure size 640x480 with 2 Axes>"
      ]
     },
     "metadata": {},
     "output_type": "display_data"
    }
   ],
   "source": [
    "conf_mat = confusion_matrix(y2_test, y_predKNN)\n",
    "cm_display = ConfusionMatrixDisplay(conf_mat).plot()"
   ]
  },
  {
   "cell_type": "code",
   "execution_count": 279,
   "id": "7bc39040-302a-4075-92df-90e8bc2ceae8",
   "metadata": {},
   "outputs": [
    {
     "name": "stdout",
     "output_type": "stream",
     "text": [
      "              precision    recall  f1-score   support\n",
      "\n",
      "           0       0.78      0.82      0.80       200\n",
      "           1       0.22      0.08      0.11        26\n",
      "           2       0.81      0.83      0.82       229\n",
      "\n",
      "    accuracy                           0.78       455\n",
      "   macro avg       0.60      0.58      0.58       455\n",
      "weighted avg       0.76      0.78      0.77       455\n",
      "\n"
     ]
    }
   ],
   "source": [
    "#evaluation metrics\n",
    "print(metrics.classification_report(y2_test,y_predKNN))"
   ]
  },
  {
   "cell_type": "markdown",
   "id": "f9682692-6251-4df8-b92a-d2f772b29960",
   "metadata": {},
   "source": [
    "### Naïve Bayesian Classifier"
   ]
  },
  {
   "cell_type": "code",
   "execution_count": 282,
   "id": "6fcdd382-526b-482d-867e-f2a7fb721dca",
   "metadata": {},
   "outputs": [
    {
     "name": "stdout",
     "output_type": "stream",
     "text": [
      "Accuracy: 0.7714285714285715\n"
     ]
    }
   ],
   "source": [
    "#Create a Gaussian Classifier\n",
    "gnb = GaussianNB()\n",
    "\n",
    "#Train model using the training sets\n",
    "gnb.fit(X_train, y_train)\n",
    "\n",
    "#predict the response for test dataset\n",
    "y_predNB = gnb.predict(X_test)\n",
    "print(\"Accuracy:\",metrics.accuracy_score(y_test, y_predNB))"
   ]
  },
  {
   "cell_type": "code",
   "execution_count": 284,
   "id": "e94e9562-0815-4539-a89a-b6c2d8e3b19d",
   "metadata": {},
   "outputs": [
    {
     "data": {
      "image/png": "[encoded data removed]",
      "text/plain": [
       "<Figure size 640x480 with 2 Axes>"
      ]
     },
     "metadata": {},
     "output_type": "display_data"
    }
   ],
   "source": [
    "#Confusion Matrix\n",
    "conf_mat = confusion_matrix(y_test, y_predNB)\n",
    "cm_display = ConfusionMatrixDisplay(conf_mat).plot()"
   ]
  },
  {
   "cell_type": "code",
   "execution_count": 286,
   "id": "61dea66a-8b2b-4f55-86e7-f8fb77594c4a",
   "metadata": {},
   "outputs": [
    {
     "name": "stdout",
     "output_type": "stream",
     "text": [
      "              precision    recall  f1-score   support\n",
      "\n",
      "           0       0.89      0.71      0.79       198\n",
      "           1       0.14      0.12      0.13        26\n",
      "           2       0.75      0.90      0.82       231\n",
      "\n",
      "    accuracy                           0.77       455\n",
      "   macro avg       0.59      0.57      0.58       455\n",
      "weighted avg       0.78      0.77      0.77       455\n",
      "\n"
     ]
    }
   ],
   "source": [
    "#Look at the other results\n",
    "print(metrics.classification_report(y_test,y_predNB))"
   ]
  },
  {
   "cell_type": "markdown",
   "id": "ef0c3f59-0a7f-44b5-948b-7ea1bc386d8e",
   "metadata": {},
   "source": [
    "### Cross validation"
   ]
  },
  {
   "cell_type": "code",
   "execution_count": 289,
   "id": "9df021c3-653c-4ce9-a5bd-dbb8dc9587d2",
   "metadata": {},
   "outputs": [
    {
     "name": "stdout",
     "output_type": "stream",
     "text": [
      "Training F1-Score (Mean): 1.0 (Std Dev: 0.0) CV: 0.0%\n",
      "Testing F1-Score (Mean): 0.7386669966672251 (Std Dev: 0.04953292734637956) CV: 6.705718215361733% \n"
     ]
    }
   ],
   "source": [
    "# Initialize the KFold cross-validator\n",
    "kf = KFold(n_splits=10, shuffle = True, random_state = 1)\n",
    "\n",
    "# Initialize the model (e.g., Decision Tree)\n",
    "model = DecisionTreeClassifier(random_state=1)\n",
    "\n",
    "train_f1_scores = []\n",
    "test_f1_scores = []\n",
    "\n",
    "# Loop through the folds manually\n",
    "for train_index, test_index in kf.split(X):\n",
    "    X_train, X_test = X.iloc[train_index], X.iloc[test_index]\n",
    "    y_train, y_test = y.iloc[train_index], y.iloc[test_index]\n",
    "    \n",
    "    # Train the model on the training data\n",
    "    model.fit(X_train, y_train)\n",
    "    \n",
    "    # Get predictions for training and test sets\n",
    "    y_train_pred = model.predict(X_train)\n",
    "    y_test_pred = model.predict(X_test)\n",
    "    \n",
    "    # Calculate training and testing F1-score (weighted for multi-class)\n",
    "    train_f1 = f1_score(y_train, y_train_pred, average='weighted')\n",
    "    test_f1 = f1_score(y_test, y_test_pred, average='weighted')\n",
    "    \n",
    "    train_f1_scores.append(train_f1)\n",
    "    test_f1_scores.append(test_f1)\n",
    "    \n",
    "# Calculate statistics for training F1-Score\n",
    "train_f1_mean = np.mean(train_f1_scores)\n",
    "train_f1_std = np.std(train_f1_scores)\n",
    "train_f1_cv = (train_f1_std / train_f1_mean) * 100\n",
    "\n",
    "# Calculate statistics for testing F1-Score\n",
    "test_f1_mean = np.mean(test_f1_scores)\n",
    "test_f1_std = np.std(test_f1_scores)\n",
    "test_f1_cv = (test_f1_std / test_f1_mean) * 100\n",
    "\n",
    "# Print the results for training F1-Score\n",
    "print(f\"Training F1-Score (Mean): {train_f1_mean} (Std Dev: {train_f1_std}) CV: {train_f1_cv}%\")\n",
    "# Print the results for testing F1-Score\n",
    "print(f\"Testing F1-Score (Mean): {test_f1_mean} (Std Dev: {test_f1_std}) CV: {test_f1_cv}% \")"
   ]
  },
  {
   "cell_type": "code",
   "execution_count": 291,
   "id": "4a02b4ee-a3be-4c88-bef4-2180f7e7f08b",
   "metadata": {},
   "outputs": [
    {
     "name": "stdout",
     "output_type": "stream",
     "text": [
      "Training F1-Score (Mean): 1.0 (Std Dev: 0.0) CV: 0.0%\n",
      "Testing F1-Score (Mean): 0.7323486224377433 (Std Dev: 0.03822014887469712) CV: 5.218846284912101%\n"
     ]
    }
   ],
   "source": [
    "from sklearn.model_selection import cross_validate\n",
    "\n",
    "# Initialize the model (e.g., Decision Tree)\n",
    "model = DecisionTreeClassifier(random_state=1)\n",
    "\n",
    "# Perform cross-validation and get training and testing F1 scores\n",
    "scoring = {'train_f1': 'f1_weighted', 'test_f1': 'f1_weighted'}\n",
    "results = cross_validate(model, X, y, cv=10, scoring=scoring, return_train_score=True)\n",
    "#print(results.keys()) #debugging\n",
    "# Calculate mean and standard deviation for both training and testing F1 scores\n",
    "train_f1_mean = results['train_train_f1'].mean()  \n",
    "train_f1_std = results['train_train_f1'].std()\n",
    "\n",
    "test_f1_mean = results['test_test_f1'].mean()  \n",
    "test_f1_std = results['test_test_f1'].std()\n",
    "\n",
    "# Print the mean, std, and CV for training and testing F1-scores\n",
    "print(f\"Training F1-Score (Mean): {train_f1_mean} (Std Dev: {train_f1_std}) CV: {train_f1_std/train_f1_mean * 100}%\")\n",
    "print(f\"Testing F1-Score (Mean): {test_f1_mean} (Std Dev: {test_f1_std}) CV: {test_f1_std/test_f1_mean * 100}%\")"
   ]
  },
  {
   "cell_type": "markdown",
   "id": "b648c5ce-c6c0-4f48-a5fe-f9223c5ff9c0",
   "metadata": {},
   "source": [
    "### Leave one out Cross Validation"
   ]
  },
  {
   "cell_type": "code",
   "execution_count": 294,
   "id": "71c806e9-5b20-4811-a085-19b797a7307a",
   "metadata": {},
   "outputs": [
    {
     "name": "stdout",
     "output_type": "stream",
     "text": [
      "Training F1-Score (Mean): 1.0 (Std Dev: 0.0) CV: 0.0%\n",
      "Testing F1-Score (Mean): 0.7407651715039578 (Std Dev: 0.43821471014865515) CV: 59.15703478053083%\n"
     ]
    }
   ],
   "source": [
    "# Initialize Leave-One-Out cross-validator\n",
    "loo = LeaveOneOut()\n",
    "\n",
    "# Initialize the model (e.g., Decision Tree)\n",
    "model = DecisionTreeClassifier(random_state=1)\n",
    "\n",
    "train_f1_scores = []\n",
    "test_f1_scores = []\n",
    "\n",
    "# Loop through the folds manually\n",
    "for train_index, test_index in loo.split(X):\n",
    "    # Use .iloc if X and y are DataFrames/Series, else use standard indexing\n",
    "    X_train, X_test = X.iloc[train_index], X.iloc[test_index]\n",
    "    y_train, y_test = y.iloc[train_index], y.iloc[test_index]\n",
    "    \n",
    "    # Train the model on the training data\n",
    "    model.fit(X_train, y_train)\n",
    "    \n",
    "    # Get predictions for training and test sets\n",
    "    y_train_pred = model.predict(X_train)\n",
    "    y_test_pred = model.predict(X_test)\n",
    "    \n",
    "    # Calculate training and testing F1-score (weighted for multi-class)\n",
    "    train_f1 = f1_score(y_train, y_train_pred, average='weighted')\n",
    "    test_f1 = f1_score(y_test, y_test_pred, average='weighted')\n",
    "    \n",
    "    train_f1_scores.append(train_f1)\n",
    "    test_f1_scores.append(test_f1)\n",
    "\n",
    "# Calculate statistics for training F1-Score\n",
    "train_f1_mean = np.mean(train_f1_scores)\n",
    "train_f1_std = np.std(train_f1_scores)\n",
    "train_f1_cv = (train_f1_std / train_f1_mean) * 100\n",
    "\n",
    "# Calculate statistics for testing F1-Score\n",
    "test_f1_mean = np.mean(test_f1_scores)\n",
    "test_f1_std = np.std(test_f1_scores)\n",
    "test_f1_cv = (test_f1_std / test_f1_mean) * 100\n",
    "\n",
    "# Print results for Training and Testing F1-Score in one line\n",
    "print(f\"Training F1-Score (Mean): {train_f1_mean} (Std Dev: {train_f1_std}) CV: {train_f1_cv}%\")\n",
    "print(f\"Testing F1-Score (Mean): {test_f1_mean} (Std Dev: {test_f1_std}) CV: {test_f1_cv}%\")\n",
    "\n",
    " "
   ]
  },
  {
   "cell_type": "markdown",
   "id": "f85b1178-387f-433a-94f0-4e0175898c64",
   "metadata": {},
   "source": [
    "### Random Split"
   ]
  },
  {
   "cell_type": "code",
   "execution_count": 297,
   "id": "90ab2614-4c53-42a1-9439-45470687fb0f",
   "metadata": {},
   "outputs": [
    {
     "name": "stdout",
     "output_type": "stream",
     "text": [
      "Training F1-Score (Mean): 1.0 (Std Dev: 0.0) CV: 0.0%\n",
      "Testing F1-Score (Mean): 0.735010592657569 (Std Dev: 0.019947848903574955) CV: 2.713953935201091%\n"
     ]
    }
   ],
   "source": [
    "# Initialize the ShuffleSplit cross-validator\n",
    "rs = ShuffleSplit(n_splits=10, test_size=0.3, random_state=1)\n",
    "\n",
    "# Initialize the model (e.g., Decision Tree)\n",
    "model = DecisionTreeClassifier(random_state=1)\n",
    "\n",
    "train_f1_scores = []\n",
    "test_f1_scores = []\n",
    "\n",
    "# Loop through the random splits\n",
    "for train_index, test_index in rs.split(X):\n",
    "    # Use .iloc if X and y are DataFrames/Series, else use standard indexing\n",
    "    X_train, X_test = X.iloc[train_index], X.iloc[test_index]\n",
    "    y_train, y_test = y.iloc[train_index], y.iloc[test_index]\n",
    "    \n",
    "    # Train the model on the training data\n",
    "    model.fit(X_train, y_train)\n",
    "    \n",
    "    # Get predictions for training and test sets\n",
    "    y_train_pred = model.predict(X_train)\n",
    "    y_test_pred = model.predict(X_test)\n",
    "    \n",
    "    # Calculate training and testing F1-score (weighted for multi-class)\n",
    "    train_f1 = f1_score(y_train, y_train_pred, average='weighted')\n",
    "    test_f1 = f1_score(y_test, y_test_pred, average='weighted')\n",
    "    \n",
    "    train_f1_scores.append(train_f1)\n",
    "    test_f1_scores.append(test_f1)\n",
    "\n",
    "# Calculate statistics for training F1-Score\n",
    "train_f1_mean = np.mean(train_f1_scores)\n",
    "train_f1_std = np.std(train_f1_scores)\n",
    "train_f1_cv = (train_f1_std / train_f1_mean) * 100\n",
    "\n",
    "# Calculate statistics for testing F1-Score\n",
    "test_f1_mean = np.mean(test_f1_scores)\n",
    "test_f1_std = np.std(test_f1_scores)\n",
    "test_f1_cv = (test_f1_std / test_f1_mean) * 100\n",
    "\n",
    "# Print results for Training and Testing F1-Score in one line\n",
    "print(f\"Training F1-Score (Mean): {train_f1_mean} (Std Dev: {train_f1_std}) CV: {train_f1_cv}%\")\n",
    "print(f\"Testing F1-Score (Mean): {test_f1_mean} (Std Dev: {test_f1_std}) CV: {test_f1_cv}%\")"
   ]
  },
  {
   "cell_type": "markdown",
   "id": "33eeb4a1-0bd2-42be-8794-37320ca2c59c",
   "metadata": {},
   "source": [
    "### Grid Search"
   ]
  },
  {
   "cell_type": "code",
   "execution_count": 302,
   "id": "6f655e80-ed2a-4890-8294-9fec23bbe5b0",
   "metadata": {},
   "outputs": [
    {
     "name": "stdout",
     "output_type": "stream",
     "text": [
      "Best Decision Tree F1-Score on Test Set: 0.7814266131481142\n",
      "Best KNN F1-Score on Test Set: 0.8012479611201028\n",
      "Best Decision Tree Parameters: {'criterion': 'gini', 'max_depth': 5, 'min_samples_split': 10}\n",
      "Best KNN Parameters: {'metric': 'chebyshev', 'n_neighbors': 18, 'weights': 'uniform'}\n",
      "Best Decision Tree CV Mean F1-Score: 0.7545902765767123 (Std Dev: 0.014027346288192372)  CV: 0.018589354678447596\n",
      "Best KNN CV Mean F1-Score: 0.7936108453341 (Std Dev: 0.020471548301035813) CV: 0.025795449270123765\n"
     ]
    }
   ],
   "source": [
    "f1_scorer = make_scorer(f1_score, average='weighted')\n",
    "\n",
    "# Standardize the data only for KNN\n",
    "scaler = StandardScaler()\n",
    "X_train_scaled = scaler.fit_transform(X_train)\n",
    "X_test_scaled = scaler.transform(X_test)\n",
    "\n",
    "# Define parameter grid for Decision Tree\n",
    "param_grid_tree = {\n",
    "    'criterion': ['gini', 'entropy'],\n",
    "    'max_depth': [None, 3, 5, 10],  # None means no limit\n",
    "    'min_samples_split': [2, 5, 10]\n",
    "}\n",
    "\n",
    "# Define parameter grid for KNN\n",
    "param_grid_knn = {\n",
    "    'n_neighbors': list(range(1, 41)),  # Test k values from 1 to 40\n",
    "    'weights': ['uniform', 'distance'],\n",
    "    'metric': ['euclidean', 'manhattan', 'chebyshev']\n",
    "}\n",
    "\n",
    "# Initialize the classifiers\n",
    "decision_tree = DecisionTreeClassifier(random_state=1)\n",
    "knn = KNeighborsClassifier()\n",
    "\n",
    "# Set up GridSearchCV for Decision Tree\n",
    "grid_search_tree = GridSearchCV(estimator=decision_tree, \n",
    "                                param_grid=param_grid_tree, \n",
    "                                cv=5,  # 5-fold cross-validation\n",
    "                                scoring=f1_scorer,  # Use F1-score as the metric\n",
    "                                n_jobs=-1)  # Use all processors\n",
    "\n",
    "# Set up GridSearchCV for KNN\n",
    "grid_search_knn = GridSearchCV(estimator=knn, \n",
    "                               param_grid=param_grid_knn, \n",
    "                               cv=5,  # 5-fold cross-validation\n",
    "                               scoring=f1_scorer,  # Use F1-score as the metric\n",
    "                               n_jobs=-1)  # Use all processors\n",
    "\n",
    "# Perform the grid search for Decision Tree\n",
    "grid_search_tree.fit(X_train, y_train)\n",
    "\n",
    "# Perform the grid search for KNN\n",
    "grid_search_knn.fit(X_train_scaled, y_train)\n",
    "\n",
    "# Get the best models\n",
    "best_tree = grid_search_tree.best_estimator_\n",
    "best_knn = grid_search_knn.best_estimator_\n",
    "\n",
    "# Evaluate both models on the test set\n",
    "y_pred_tree = best_tree.predict(X_test)\n",
    "y_pred_knn = best_knn.predict(X_test_scaled)\n",
    "\n",
    "# Calculate F1-scores on the test set\n",
    "f1_tree = f1_score(y_test, y_pred_tree, average='weighted')\n",
    "f1_knn = f1_score(y_test, y_pred_knn, average='weighted')\n",
    "\n",
    "# Print the results\n",
    "print(f\"Best Decision Tree F1-Score on Test Set: {f1_tree}\")\n",
    "print(f\"Best KNN F1-Score on Test Set: {f1_knn}\")\n",
    "\n",
    "# Print best hyperparameters\n",
    "print(f\"Best Decision Tree Parameters: {grid_search_tree.best_params_}\")\n",
    "print(f\"Best KNN Parameters: {grid_search_knn.best_params_}\")\n",
    "\n",
    "# Extract mean and standard deviation from cv_results_ for Decision Tree\n",
    "tree_mean = grid_search_tree.cv_results_['mean_test_score'][grid_search_tree.best_index_]\n",
    "tree_std = grid_search_tree.cv_results_['std_test_score'][grid_search_tree.best_index_]\n",
    "\n",
    "# Extract mean and standard deviation from cv_results_ for KNN\n",
    "knn_mean = grid_search_knn.cv_results_['mean_test_score'][grid_search_knn.best_index_]\n",
    "knn_std = grid_search_knn.cv_results_['std_test_score'][grid_search_knn.best_index_]\n",
    "\n",
    "# Print mean and standard deviation\n",
    "print(f\"Best Decision Tree CV Mean F1-Score: {tree_mean} (Std Dev: {tree_std})  CV: {tree_std/tree_mean}\")\n",
    "print(f\"Best KNN CV Mean F1-Score: {knn_mean} (Std Dev: {knn_std}) CV: {knn_std/knn_mean}\")"
   ]
  },
  {
   "cell_type": "markdown",
   "id": "59bfc05a-8ed6-44e4-8021-6ee0246c7dc0",
   "metadata": {},
   "source": [
    "### Constructing Best DT and CNN Model"
   ]
  },
  {
   "cell_type": "code",
   "execution_count": 310,
   "id": "ef294482-b770-4237-9c01-25a8fc807414",
   "metadata": {},
   "outputs": [
    {
     "name": "stdout",
     "output_type": "stream",
     "text": [
      "Decision Tree F1-scores: [0.784235  0.7605498 0.7761701 0.7634448 0.8004578]\n",
      "KNN F1-scores: [0.77962966 0.80325874 0.77133955 0.78503903 0.82878725]\n",
      "Decision Tree F1-Score Mean: 0.7770, Std Dev: 0.0145 CV: 1.8719%\n",
      "KNN F1-Score Mean: 0.7936, Std Dev: 0.0205 CV: 2.5795%\n",
      "Paired t-test: t-statistic = -1.7772, p-value = 0.1502\n",
      "Wilcoxon signed-rank test: W-statistic = 3.0000, p-value = 0.3125\n"
     ]
    }
   ],
   "source": [
    "# Best hyperparameters from Grid Search\n",
    "best_tree_params = {'criterion': 'gini', 'max_depth': 5, 'min_samples_split': 10}\n",
    "best_knn_params = {'metric': 'chebyshev', 'n_neighbors': 18, 'weights': 'uniform'}\n",
    "\n",
    "# Initialize the models with the best hyperparameters\n",
    "best_tree = DecisionTreeClassifier(**best_tree_params, random_state=1)\n",
    "best_knn = KNeighborsClassifier(**best_knn_params)\n",
    "\n",
    "# Use weighted F1-score as the evaluation metric\n",
    "f1_scorer = make_scorer(f1_score, average='weighted')\n",
    "\n",
    "# Perform cross-validation (5-fold CV here) and collect F1-scores for both models\n",
    "# For KNN, use the standardized dataset (X_train_scaled)\n",
    "f1_scores_tree = cross_val_score(best_tree, X, y, cv=5, scoring=f1_scorer)\n",
    "f1_scores_knn = cross_val_score(best_knn, X_train_scaled, y_train, cv=5, scoring=f1_scorer)\n",
    "\n",
    "# Print the cross-validated F1-scores\n",
    "print(f\"Decision Tree F1-scores: {f1_scores_tree}\")\n",
    "print(f\"KNN F1-scores: {f1_scores_knn}\")\n",
    "\n",
    "# Compute the mean and standard deviation of the F1-scores\n",
    "print(f\"Decision Tree F1-Score Mean: {np.mean(f1_scores_tree):.4f}, Std Dev: {np.std(f1_scores_tree):.4f} CV: { np.std(f1_scores_tree)/np.mean(f1_scores_tree)*100:.4f}%\")\n",
    "print(f\"KNN F1-Score Mean: {np.mean(f1_scores_knn):.4f}, Std Dev: {np.std(f1_scores_knn):.4f} CV: {np.std(f1_scores_knn)/np.mean(f1_scores_knn)*100:.4f}%\")\n",
    "\n",
    "# Perform a paired t-test (parametric test) to see if there's a significant difference\n",
    "t_stat, p_value_t = ttest_rel(f1_scores_tree, f1_scores_knn)\n",
    "print(f\"Paired t-test: t-statistic = {t_stat:.4f}, p-value = {p_value_t:.4f}\")\n",
    "\n",
    "# Perform the Wilcoxon signed-rank test (non-parametric test)\n",
    "w_stat, p_value_w = wilcoxon(f1_scores_tree, f1_scores_knn)\n",
    "print(f\"Wilcoxon signed-rank test: W-statistic = {w_stat:.4f}, p-value = {p_value_w:.4f}\")"
   ]
  },
  {
   "cell_type": "markdown",
   "id": "d1ad18b7-a207-484a-81e2-3c1abc02862b",
   "metadata": {},
   "source": [
    "#### Discussion of results from each model: WIP"
   ]
  },
  {
   "cell_type": "markdown",
   "id": "3c6d1f28-f512-4c19-a5cf-9eab6e09085a",
   "metadata": {
    "jp-MarkdownHeadingCollapsed": true
   },
   "source": [
    "## Second model set: This model aims to determine whether using only player Elo ratings is more effective for training than using both player Elo ratings and player ACPL. "
   ]
  },
  {
   "cell_type": "code",
   "execution_count": 200,
   "id": "213f8257-2e81-4126-9daf-b3247ecb79f0",
   "metadata": {},
   "outputs": [],
   "source": [
    "elo_data = key_data[[\"WhiteElo\",\"BlackElo\",\"Result\"]]"
   ]
  },
  {
   "cell_type": "code",
   "execution_count": 204,
   "id": "8cb72fa7-8d52-4f5d-9280-1b9807665dd7",
   "metadata": {},
   "outputs": [
    {
     "data": {
      "text/html": [
       "<div>\n",
       "<style scoped>\n",
       "    .dataframe tbody tr th:only-of-type {\n",
       "        vertical-align: middle;\n",
       "    }\n",
       "\n",
       "    .dataframe tbody tr th {\n",
       "        vertical-align: top;\n",
       "    }\n",
       "\n",
       "    .dataframe thead th {\n",
       "        text-align: right;\n",
       "    }\n",
       "</style>\n",
       "<table border=\"1\" class=\"dataframe\">\n",
       "  <thead>\n",
       "    <tr style=\"text-align: right;\">\n",
       "      <th></th>\n",
       "      <th>WhiteElo</th>\n",
       "      <th>BlackElo</th>\n",
       "      <th>Result</th>\n",
       "    </tr>\n",
       "  </thead>\n",
       "  <tbody>\n",
       "    <tr>\n",
       "      <th>0</th>\n",
       "      <td>874</td>\n",
       "      <td>1074</td>\n",
       "      <td>2</td>\n",
       "    </tr>\n",
       "    <tr>\n",
       "      <th>1</th>\n",
       "      <td>1578</td>\n",
       "      <td>1471</td>\n",
       "      <td>1</td>\n",
       "    </tr>\n",
       "    <tr>\n",
       "      <th>2</th>\n",
       "      <td>877</td>\n",
       "      <td>771</td>\n",
       "      <td>0</td>\n",
       "    </tr>\n",
       "    <tr>\n",
       "      <th>3</th>\n",
       "      <td>1289</td>\n",
       "      <td>1290</td>\n",
       "      <td>2</td>\n",
       "    </tr>\n",
       "    <tr>\n",
       "      <th>4</th>\n",
       "      <td>851</td>\n",
       "      <td>777</td>\n",
       "      <td>2</td>\n",
       "    </tr>\n",
       "    <tr>\n",
       "      <th>...</th>\n",
       "      <td>...</td>\n",
       "      <td>...</td>\n",
       "      <td>...</td>\n",
       "    </tr>\n",
       "    <tr>\n",
       "      <th>1511</th>\n",
       "      <td>988</td>\n",
       "      <td>995</td>\n",
       "      <td>2</td>\n",
       "    </tr>\n",
       "    <tr>\n",
       "      <th>1512</th>\n",
       "      <td>1437</td>\n",
       "      <td>1432</td>\n",
       "      <td>0</td>\n",
       "    </tr>\n",
       "    <tr>\n",
       "      <th>1513</th>\n",
       "      <td>871</td>\n",
       "      <td>968</td>\n",
       "      <td>0</td>\n",
       "    </tr>\n",
       "    <tr>\n",
       "      <th>1514</th>\n",
       "      <td>1483</td>\n",
       "      <td>1414</td>\n",
       "      <td>2</td>\n",
       "    </tr>\n",
       "    <tr>\n",
       "      <th>1515</th>\n",
       "      <td>1457</td>\n",
       "      <td>1469</td>\n",
       "      <td>0</td>\n",
       "    </tr>\n",
       "  </tbody>\n",
       "</table>\n",
       "<p>1516 rows × 3 columns</p>\n",
       "</div>"
      ],
      "text/plain": [
       "      WhiteElo  BlackElo  Result\n",
       "0          874      1074       2\n",
       "1         1578      1471       1\n",
       "2          877       771       0\n",
       "3         1289      1290       2\n",
       "4          851       777       2\n",
       "...        ...       ...     ...\n",
       "1511       988       995       2\n",
       "1512      1437      1432       0\n",
       "1513       871       968       0\n",
       "1514      1483      1414       2\n",
       "1515      1457      1469       0\n",
       "\n",
       "[1516 rows x 3 columns]"
      ]
     },
     "execution_count": 204,
     "metadata": {},
     "output_type": "execute_result"
    }
   ],
   "source": [
    "elo_data # see if all looks good here"
   ]
  },
  {
   "cell_type": "code",
   "execution_count": 314,
   "id": "a575c4d1-8254-484a-8f7e-4d0816de252d",
   "metadata": {},
   "outputs": [],
   "source": [
    "X_train, X_test, y_train, y_test = train_test_split(X, y, test_size=0.3, random_state=407) # 70/30 train test split"
   ]
  },
  {
   "cell_type": "markdown",
   "id": "ccffb13c-f3a7-49fa-b3da-666e0018b18d",
   "metadata": {},
   "source": [
    "### DT Model"
   ]
  },
  {
   "cell_type": "code",
   "execution_count": 316,
   "id": "42af2883-b4c6-4343-a218-135c7048827b",
   "metadata": {},
   "outputs": [
    {
     "name": "stdout",
     "output_type": "stream",
     "text": [
      "Accuracy: 0.701098901098901\n"
     ]
    }
   ],
   "source": [
    "# Create Decision Tree classifer object\n",
    "oneTree = DecisionTreeClassifier()\n",
    "# Train Decision Tree Classifer\n",
    "oneTree.fit(X_train,y_train)\n",
    "y_predDT = oneTree.predict(X_test)\n",
    "# Model Accuracy, how often is the classifier correct?\n",
    "print(f\"Accuracy: {metrics.accuracy_score(y_test, y_predDT)}\")"
   ]
  },
  {
   "cell_type": "code",
   "execution_count": 318,
   "id": "f076d04a-647c-491a-a873-7a6d301ff194",
   "metadata": {},
   "outputs": [
    {
     "data": {
      "image/png": "[encoded data removed]",
      "text/plain": [
       "<Figure size 640x480 with 2 Axes>"
      ]
     },
     "metadata": {},
     "output_type": "display_data"
    }
   ],
   "source": [
    "conf_mat = confusion_matrix(y_test, y_predDT)\n",
    "cm_display = ConfusionMatrixDisplay(conf_mat).plot()"
   ]
  },
  {
   "cell_type": "code",
   "execution_count": 334,
   "id": "117baa49-3f0b-474f-98fe-f4b6d336d3ae",
   "metadata": {},
   "outputs": [
    {
     "name": "stdout",
     "output_type": "stream",
     "text": [
      "              precision    recall  f1-score   support\n",
      "\n",
      "           0       0.43      0.42      0.42       200\n",
      "           1       0.00      0.00      0.00        26\n",
      "           2       0.49      0.48      0.48       229\n",
      "\n",
      "    accuracy                           0.43       455\n",
      "   macro avg       0.30      0.30      0.30       455\n",
      "weighted avg       0.43      0.43      0.43       455\n",
      "\n"
     ]
    }
   ],
   "source": [
    "#evaluation metrics\n",
    "print(metrics.classification_report(y2_test,y_predDT))"
   ]
  },
  {
   "cell_type": "markdown",
   "id": "459e7220-3b6a-410f-b2ac-26c77d06ac04",
   "metadata": {},
   "source": [
    "### KNN Model"
   ]
  },
  {
   "cell_type": "code",
   "execution_count": 328,
   "id": "40fc28c6-f078-421f-b7fc-63241ed0e63c",
   "metadata": {},
   "outputs": [
    {
     "name": "stdout",
     "output_type": "stream",
     "text": [
      "Accuracy: 0.6703296703296703\n"
     ]
    }
   ],
   "source": [
    "#Fix data for KNN\n",
    "# Import module to standardize the scale\n",
    "from sklearn.preprocessing import StandardScaler\n",
    "# Create instance (i.e. object) of the standard scaler\n",
    "scaler = StandardScaler()\n",
    "# Fit the object to all the data except the Target Class or Outcome\n",
    "# use the .drop() method to gather all features except Target Class/outcome\n",
    "# axis -> argument refers to columns; a 0 would represent rows a 1 is column\n",
    "scaler.fit(elo_data.drop('Result', axis=1))\n",
    "# Use scaler object to conduct a transforms\n",
    "scaled_features = scaler.transform(elo_data.drop('Result',axis=1))\n",
    "#Here we have the normalized dataset, minus the target/output column which is the last col\n",
    "data_feat = pd.DataFrame(scaled_features, columns= elo_data.columns[:-1])\n",
    "#split dataset in features and target variable\n",
    "X = data_feat\n",
    "y = elo_data['Result'] # Target variable\n",
    "# Split dataset into training set and test set\n",
    "X2_train, X2_test, y2_train, y2_test = train_test_split(X, y, test_size=0.3, random_state=1) # 70% training and 30% test\n",
    "\n",
    "weightedChebKNN = KNeighborsClassifier(n_neighbors=10,weights='distance', metric='chebyshev')\n",
    "weightedChebKNN .fit(X2_train,y2_train)\n",
    "y_predKNN = weightedChebKNN .predict(X2_test)\n",
    "# Model Accuracy, how often is the classifier correct?\n",
    "print(\"Accuracy:\",metrics.accuracy_score(y2_test, y_predKNN)) "
   ]
  },
  {
   "cell_type": "code",
   "execution_count": 330,
   "id": "dd72f283-db14-4b02-b60d-f1935524e511",
   "metadata": {},
   "outputs": [
    {
     "data": {
      "image/png": "[encoded data removed]",
      "text/plain": [
       "<Figure size 640x480 with 2 Axes>"
      ]
     },
     "metadata": {},
     "output_type": "display_data"
    }
   ],
   "source": [
    "conf_mat = confusion_matrix(y2_test, y_predKNN)\n",
    "cm_display = ConfusionMatrixDisplay(conf_mat).plot()"
   ]
  },
  {
   "cell_type": "code",
   "execution_count": 332,
   "id": "40159089-f3ff-4ed7-bcc5-a6c935089f4a",
   "metadata": {},
   "outputs": [
    {
     "name": "stdout",
     "output_type": "stream",
     "text": [
      "              precision    recall  f1-score   support\n",
      "\n",
      "           0       0.67      0.66      0.67       200\n",
      "           1       0.00      0.00      0.00        26\n",
      "           2       0.68      0.76      0.71       229\n",
      "\n",
      "    accuracy                           0.67       455\n",
      "   macro avg       0.45      0.47      0.46       455\n",
      "weighted avg       0.64      0.67      0.65       455\n",
      "\n"
     ]
    }
   ],
   "source": [
    "#evaluation metrics\n",
    "print(metrics.classification_report(y2_test,y_predKNN))"
   ]
  },
  {
   "cell_type": "markdown",
   "id": "01a2ab0d-7da0-426e-ba2c-6b2614c4e2c1",
   "metadata": {},
   "source": [
    "### Cross validation"
   ]
  },
  {
   "cell_type": "code",
   "execution_count": 339,
   "id": "a0ccf1cc-9c93-4db9-972e-597c984948b5",
   "metadata": {},
   "outputs": [
    {
     "name": "stdout",
     "output_type": "stream",
     "text": [
      "Training F1-Score (Mean): 0.9870314224095063 (Std Dev: 0.001228084977184568) CV: 0.12442207505274862%\n",
      "Testing F1-Score (Mean): 0.5568616434425804 (Std Dev: 0.027070084748895915) CV: 4.861186807829975% \n"
     ]
    }
   ],
   "source": [
    "# Initialize the KFold cross-validator\n",
    "kf = KFold(n_splits=10, shuffle = True, random_state = 1)\n",
    "\n",
    "# Initialize the model (e.g., Decision Tree)\n",
    "model = DecisionTreeClassifier(random_state=1)\n",
    "\n",
    "train_f1_scores = []\n",
    "test_f1_scores = []\n",
    "\n",
    "# Loop through the folds manually\n",
    "for train_index, test_index in kf.split(X):\n",
    "    X_train, X_test = X.iloc[train_index], X.iloc[test_index]\n",
    "    y_train, y_test = y.iloc[train_index], y.iloc[test_index]\n",
    "    \n",
    "    # Train the model on the training data\n",
    "    model.fit(X_train, y_train)\n",
    "    \n",
    "    # Get predictions for training and test sets\n",
    "    y_train_pred = model.predict(X_train)\n",
    "    y_test_pred = model.predict(X_test)\n",
    "    \n",
    "    # Calculate training and testing F1-score (weighted for multi-class)\n",
    "    train_f1 = f1_score(y_train, y_train_pred, average='weighted')\n",
    "    test_f1 = f1_score(y_test, y_test_pred, average='weighted')\n",
    "    \n",
    "    train_f1_scores.append(train_f1)\n",
    "    test_f1_scores.append(test_f1)\n",
    "    \n",
    "# Calculate statistics for training F1-Score\n",
    "train_f1_mean = np.mean(train_f1_scores)\n",
    "train_f1_std = np.std(train_f1_scores)\n",
    "train_f1_cv = (train_f1_std / train_f1_mean) * 100\n",
    "\n",
    "# Calculate statistics for testing F1-Score\n",
    "test_f1_mean = np.mean(test_f1_scores)\n",
    "test_f1_std = np.std(test_f1_scores)\n",
    "test_f1_cv = (test_f1_std / test_f1_mean) * 100\n",
    "\n",
    "# Print the results for training F1-Score\n",
    "print(f\"Training F1-Score (Mean): {train_f1_mean} (Std Dev: {train_f1_std}) CV: {train_f1_cv}%\")\n",
    "# Print the results for testing F1-Score\n",
    "print(f\"Testing F1-Score (Mean): {test_f1_mean} (Std Dev: {test_f1_std}) CV: {test_f1_cv}% \")"
   ]
  },
  {
   "cell_type": "code",
   "execution_count": 344,
   "id": "7604ed76-fdff-4325-a34a-4ddc48318993",
   "metadata": {},
   "outputs": [
    {
     "name": "stdout",
     "output_type": "stream",
     "text": [
      "Training F1-Score (Mean): 0.9870308258733121 (Std Dev: 0.001397369466093238) CV: 0.1415730319118315%\n",
      "Testing F1-Score (Mean): 0.552600451675569 (Std Dev: 0.03326243250500635) CV: 6.019255395856006%\n"
     ]
    }
   ],
   "source": [
    "# Initialize the model (e.g., Decision Tree)\n",
    "model = DecisionTreeClassifier(random_state=1)\n",
    "\n",
    "# Perform cross-validation and get training and testing F1 scores\n",
    "scoring = {'train_f1': 'f1_weighted', 'test_f1': 'f1_weighted'}\n",
    "results = cross_validate(model, X, y, cv=10, scoring=scoring, return_train_score=True)\n",
    "#print(results.keys()) #debugging\n",
    "# Calculate mean and standard deviation for both training and testing F1 scores\n",
    "train_f1_mean = results['train_train_f1'].mean()  \n",
    "train_f1_std = results['train_train_f1'].std()\n",
    "\n",
    "test_f1_mean = results['test_test_f1'].mean()  \n",
    "test_f1_std = results['test_test_f1'].std()\n",
    "\n",
    "# Print the mean, std, and CV for training and testing F1-scores\n",
    "print(f\"Training F1-Score (Mean): {train_f1_mean} (Std Dev: {train_f1_std}) CV: {train_f1_std/train_f1_mean * 100}%\")\n",
    "print(f\"Testing F1-Score (Mean): {test_f1_mean} (Std Dev: {test_f1_std}) CV: {test_f1_std/test_f1_mean * 100}%\")"
   ]
  },
  {
   "cell_type": "markdown",
   "id": "e1a8282b-e6d7-4462-ac2f-d1d2d4111444",
   "metadata": {},
   "source": [
    "### Leave one out cross validation"
   ]
  },
  {
   "cell_type": "code",
   "execution_count": 346,
   "id": "f395063d-4b7d-47c3-a1ac-bfc6c1a08b6e",
   "metadata": {},
   "outputs": [
    {
     "name": "stdout",
     "output_type": "stream",
     "text": [
      "Training F1-Score (Mean): 0.9871034546417039 (Std Dev: 0.0007477291042353561) CV: 0.07574982143150989%\n",
      "Testing F1-Score (Mean): 0.561996002255438 (Std Dev: 0.035509155520988316) CV: 6.31840002037038%\n"
     ]
    }
   ],
   "source": [
    "# Initialize the StratifiedKFold cross-validator\n",
    "skf = StratifiedKFold(n_splits=10, shuffle=True, random_state=1)\n",
    "\n",
    "# Initialize the model (e.g., Decision Tree)\n",
    "model = DecisionTreeClassifier(random_state=1)\n",
    "\n",
    "train_f1_scores = []\n",
    "test_f1_scores = []\n",
    "\n",
    "# Loop through the folds manually\n",
    "for train_index, test_index in skf.split(X, y):\n",
    "    # Use .iloc if X and y are DataFrames/Series, else use standard indexing\n",
    "    X_train, X_test = X.iloc[train_index], X.iloc[test_index]\n",
    "    y_train, y_test = y.iloc[train_index], y.iloc[test_index]\n",
    "    \n",
    "    # Train the model on the training data\n",
    "    model.fit(X_train, y_train)\n",
    "    \n",
    "    # Get predictions for training and test sets\n",
    "    y_train_pred = model.predict(X_train)\n",
    "    y_test_pred = model.predict(X_test)\n",
    "    \n",
    "    # Calculate training and testing F1-score (weighted for multi-class)\n",
    "    train_f1 = f1_score(y_train, y_train_pred, average='weighted')\n",
    "    test_f1 = f1_score(y_test, y_test_pred, average='weighted')\n",
    "    \n",
    "    train_f1_scores.append(train_f1)\n",
    "    test_f1_scores.append(test_f1)\n",
    "\n",
    "# Calculate statistics for training F1-Score\n",
    "train_f1_mean = np.mean(train_f1_scores)\n",
    "train_f1_std = np.std(train_f1_scores)\n",
    "train_f1_cv = (train_f1_std / train_f1_mean) * 100\n",
    "\n",
    "# Calculate statistics for testing F1-Score\n",
    "test_f1_mean = np.mean(test_f1_scores)\n",
    "test_f1_std = np.std(test_f1_scores)\n",
    "test_f1_cv = (test_f1_std / test_f1_mean) * 100\n",
    "\n",
    "# Print results for Training and Testing F1-Score in one line\n",
    "print(f\"Training F1-Score (Mean): {train_f1_mean} (Std Dev: {train_f1_std}) CV: {train_f1_cv}%\")\n",
    "print(f\"Testing F1-Score (Mean): {test_f1_mean} (Std Dev: {test_f1_std}) CV: {test_f1_cv}%\")"
   ]
  },
  {
   "cell_type": "markdown",
   "id": "0246dcf2-2e5a-4932-9fcb-7226bec1e6f6",
   "metadata": {},
   "source": [
    "### Random Split"
   ]
  },
  {
   "cell_type": "code",
   "execution_count": 349,
   "id": "2b0a18c7-fd05-40af-93df-47fdd328af44",
   "metadata": {},
   "outputs": [
    {
     "name": "stdout",
     "output_type": "stream",
     "text": [
      "Training F1-Score (Mean): 0.990106160274471 (Std Dev: 0.0018018390516072738) CV: 0.18198442994312644%\n",
      "Testing F1-Score (Mean): 0.5641590912019959 (Std Dev: 0.021638772323480177) CV: 3.8355798321669625%\n"
     ]
    }
   ],
   "source": [
    "# Initialize the ShuffleSplit cross-validator\n",
    "rs = ShuffleSplit(n_splits=10, test_size=0.3, random_state=1)\n",
    "\n",
    "# Initialize the model (e.g., Decision Tree)\n",
    "model = DecisionTreeClassifier(random_state=1)\n",
    "\n",
    "train_f1_scores = []\n",
    "test_f1_scores = []\n",
    "\n",
    "# Loop through the random splits\n",
    "for train_index, test_index in rs.split(X):\n",
    "    # Use .iloc if X and y are DataFrames/Series, else use standard indexing\n",
    "    X_train, X_test = X.iloc[train_index], X.iloc[test_index]\n",
    "    y_train, y_test = y.iloc[train_index], y.iloc[test_index]\n",
    "    \n",
    "    # Train the model on the training data\n",
    "    model.fit(X_train, y_train)\n",
    "    \n",
    "    # Get predictions for training and test sets\n",
    "    y_train_pred = model.predict(X_train)\n",
    "    y_test_pred = model.predict(X_test)\n",
    "    \n",
    "    # Calculate training and testing F1-score (weighted for multi-class)\n",
    "    train_f1 = f1_score(y_train, y_train_pred, average='weighted')\n",
    "    test_f1 = f1_score(y_test, y_test_pred, average='weighted')\n",
    "    \n",
    "    train_f1_scores.append(train_f1)\n",
    "    test_f1_scores.append(test_f1)\n",
    "\n",
    "# Calculate statistics for training F1-Score\n",
    "train_f1_mean = np.mean(train_f1_scores)\n",
    "train_f1_std = np.std(train_f1_scores)\n",
    "train_f1_cv = (train_f1_std / train_f1_mean) * 100\n",
    "\n",
    "# Calculate statistics for testing F1-Score\n",
    "test_f1_mean = np.mean(test_f1_scores)\n",
    "test_f1_std = np.std(test_f1_scores)\n",
    "test_f1_cv = (test_f1_std / test_f1_mean) * 100\n",
    "\n",
    "# Print results for Training and Testing F1-Score in one line\n",
    "print(f\"Training F1-Score (Mean): {train_f1_mean} (Std Dev: {train_f1_std}) CV: {train_f1_cv}%\")\n",
    "print(f\"Testing F1-Score (Mean): {test_f1_mean} (Std Dev: {test_f1_std}) CV: {test_f1_cv}%\")"
   ]
  },
  {
   "cell_type": "markdown",
   "id": "e473c2cc-f4a6-41f4-9129-b1a553482917",
   "metadata": {},
   "source": [
    "### Grid Search"
   ]
  },
  {
   "cell_type": "code",
   "execution_count": 352,
   "id": "4a07a41d-11de-4286-a0f5-c5c619ef0050",
   "metadata": {},
   "outputs": [
    {
     "name": "stdout",
     "output_type": "stream",
     "text": [
      "Best Decision Tree F1-Score on Test Set: 0.575566366145659\n",
      "Best KNN F1-Score on Test Set: 0.6504232462215656\n",
      "Best Decision Tree Parameters: {'criterion': 'gini', 'max_depth': None, 'min_samples_split': 10}\n",
      "Best KNN Parameters: {'metric': 'manhattan', 'n_neighbors': 16, 'weights': 'uniform'}\n",
      "Best Decision Tree CV Mean F1-Score: 0.5866331208257624 (Std Dev: 0.02429763318675388)  CV: 0.04141878854803118\n",
      "Best KNN CV Mean F1-Score: 0.6211802574280619 (Std Dev: 0.011428891086728746) CV: 0.018398670836785747\n"
     ]
    }
   ],
   "source": [
    "# Split the dataset into 70% training and 30% testing\n",
    "X_train, X_test, y_train, y_test = train_test_split(X, y, test_size=0.3, random_state=1)\n",
    "# Define the F1-score metric for GridSearchCV\n",
    "f1_scorer = make_scorer(f1_score, average='weighted')\n",
    "\n",
    "# Standardize the data only for KNN\n",
    "scaler = StandardScaler()\n",
    "X_train_scaled = scaler.fit_transform(X_train)\n",
    "X_test_scaled = scaler.transform(X_test)\n",
    "\n",
    "# Define parameter grid for Decision Tree\n",
    "param_grid_tree = {\n",
    "    'criterion': ['gini', 'entropy'],\n",
    "    'max_depth': [None, 3, 5, 10],  # None means no limit\n",
    "    'min_samples_split': [2, 5, 10]\n",
    "}\n",
    "\n",
    "# Define parameter grid for KNN\n",
    "param_grid_knn = {\n",
    "    'n_neighbors': list(range(1, 41)),  # Test k values from 1 to 40\n",
    "    'weights': ['uniform', 'distance'],\n",
    "    'metric': ['euclidean', 'manhattan', 'chebyshev']\n",
    "}\n",
    "\n",
    "# Initialize the classifiers\n",
    "decision_tree = DecisionTreeClassifier(random_state=1)\n",
    "knn = KNeighborsClassifier()\n",
    "\n",
    "# Set up GridSearchCV for Decision Tree\n",
    "grid_search_tree = GridSearchCV(estimator=decision_tree, \n",
    "                                param_grid=param_grid_tree, \n",
    "                                cv=5,  # 5-fold cross-validation\n",
    "                                scoring=f1_scorer,  # Use F1-score as the metric\n",
    "                                n_jobs=-1)  # Use all processors\n",
    "\n",
    "# Set up GridSearchCV for KNN\n",
    "grid_search_knn = GridSearchCV(estimator=knn, \n",
    "                               param_grid=param_grid_knn, \n",
    "                               cv=5,  # 5-fold cross-validation\n",
    "                               scoring=f1_scorer,  # Use F1-score as the metric\n",
    "                               n_jobs=-1)  # Use all processors\n",
    "\n",
    "# Perform the grid search for Decision Tree\n",
    "grid_search_tree.fit(X_train, y_train)\n",
    "\n",
    "# Perform the grid search for KNN\n",
    "grid_search_knn.fit(X_train_scaled, y_train)\n",
    "\n",
    "# Get the best models\n",
    "best_tree = grid_search_tree.best_estimator_\n",
    "best_knn = grid_search_knn.best_estimator_\n",
    "\n",
    "# Evaluate both models on the test set\n",
    "y_pred_tree = best_tree.predict(X_test)\n",
    "y_pred_knn = best_knn.predict(X_test_scaled)\n",
    "\n",
    "# Calculate F1-scores on the test set\n",
    "f1_tree = f1_score(y_test, y_pred_tree, average='weighted')\n",
    "f1_knn = f1_score(y_test, y_pred_knn, average='weighted')\n",
    "\n",
    "# Print the results\n",
    "print(f\"Best Decision Tree F1-Score on Test Set: {f1_tree}\")\n",
    "print(f\"Best KNN F1-Score on Test Set: {f1_knn}\")\n",
    "\n",
    "# Print best hyperparameters\n",
    "print(f\"Best Decision Tree Parameters: {grid_search_tree.best_params_}\")\n",
    "print(f\"Best KNN Parameters: {grid_search_knn.best_params_}\")\n",
    "\n",
    "# Extract mean and standard deviation from cv_results_ for Decision Tree\n",
    "tree_mean = grid_search_tree.cv_results_['mean_test_score'][grid_search_tree.best_index_]\n",
    "tree_std = grid_search_tree.cv_results_['std_test_score'][grid_search_tree.best_index_]\n",
    "\n",
    "# Extract mean and standard deviation from cv_results_ for KNN\n",
    "knn_mean = grid_search_knn.cv_results_['mean_test_score'][grid_search_knn.best_index_]\n",
    "knn_std = grid_search_knn.cv_results_['std_test_score'][grid_search_knn.best_index_]\n",
    "\n",
    "# Print mean and standard deviation\n",
    "print(f\"Best Decision Tree CV Mean F1-Score: {tree_mean} (Std Dev: {tree_std})  CV: {tree_std/tree_mean}\")\n",
    "print(f\"Best KNN CV Mean F1-Score: {knn_mean} (Std Dev: {knn_std}) CV: {knn_std/knn_mean}\")"
   ]
  },
  {
   "cell_type": "markdown",
   "id": "e49e3504-d947-4050-876a-866faf94b644",
   "metadata": {},
   "source": [
    "### Building the best DT and KNN models"
   ]
  },
  {
   "cell_type": "code",
   "execution_count": 355,
   "id": "e5841973-f528-449a-a780-f65e35f889f9",
   "metadata": {},
   "outputs": [
    {
     "name": "stdout",
     "output_type": "stream",
     "text": [
      "Decision Tree F1-scores: [0.56643243 0.55016513 0.63072203 0.5677205  0.55578061]\n",
      "KNN F1-scores: [0.62026621 0.63528002 0.60188156 0.61865397 0.62981952]\n",
      "Decision Tree F1-Score Mean: 0.5742, Std Dev: 0.0290 CV: 5.0562%\n",
      "KNN F1-Score Mean: 0.6212, Std Dev: 0.0114 CV: 1.8399%\n",
      "Paired t-test: t-statistic = -2.3511, p-value = 0.0784\n",
      "Wilcoxon signed-rank test: W-statistic = 1.0000, p-value = 0.1250\n"
     ]
    }
   ],
   "source": [
    "# Best hyperparameters from Grid Search\n",
    "best_tree_params = {'criterion': 'gini', 'max_depth': None, 'min_samples_split': 10}\n",
    "best_knn_params = {'metric': 'manhattan', 'n_neighbors': 16, 'weights': 'uniform'}\n",
    "\n",
    "# Initialize the models with the best hyperparameters\n",
    "best_tree = DecisionTreeClassifier(**best_tree_params, random_state=1)\n",
    "best_knn = KNeighborsClassifier(**best_knn_params)\n",
    "\n",
    "# Use weighted F1-score as the evaluation metric\n",
    "f1_scorer = make_scorer(f1_score, average='weighted')\n",
    "\n",
    "# Perform cross-validation (5-fold CV here) and collect F1-scores for both models\n",
    "# For KNN, use the standardized dataset (X_train_scaled)\n",
    "f1_scores_tree = cross_val_score(best_tree, X, y, cv=5, scoring=f1_scorer)\n",
    "f1_scores_knn = cross_val_score(best_knn, X_train_scaled, y_train, cv=5, scoring=f1_scorer)\n",
    "\n",
    "# Print the cross-validated F1-scores\n",
    "print(f\"Decision Tree F1-scores: {f1_scores_tree}\")\n",
    "print(f\"KNN F1-scores: {f1_scores_knn}\")\n",
    "\n",
    "# Compute the mean and standard deviation of the F1-scores\n",
    "print(f\"Decision Tree F1-Score Mean: {np.mean(f1_scores_tree):.4f}, Std Dev: {np.std(f1_scores_tree):.4f} CV: { np.std(f1_scores_tree)/np.mean(f1_scores_tree)*100:.4f}%\")\n",
    "print(f\"KNN F1-Score Mean: {np.mean(f1_scores_knn):.4f}, Std Dev: {np.std(f1_scores_knn):.4f} CV: {np.std(f1_scores_knn)/np.mean(f1_scores_knn)*100:.4f}%\")\n",
    "\n",
    "# Perform a paired t-test (parametric test) to see if there's a significant difference\n",
    "t_stat, p_value_t = ttest_rel(f1_scores_tree, f1_scores_knn)\n",
    "print(f\"Paired t-test: t-statistic = {t_stat:.4f}, p-value = {p_value_t:.4f}\")\n",
    "\n",
    "# Perform the Wilcoxon signed-rank test (non-parametric test)\n",
    "w_stat, p_value_w = wilcoxon(f1_scores_tree, f1_scores_knn)\n",
    "print(f\"Wilcoxon signed-rank test: W-statistic = {w_stat:.4f}, p-value = {p_value_w:.4f}\")"
   ]
  },
  {
   "cell_type": "markdown",
   "id": "d75d005c-28d1-4558-83bb-5d23fab5a548",
   "metadata": {},
   "source": [
    "#### Discussion of results"
   ]
  },
  {
   "cell_type": "markdown",
   "id": "fb9de356-d098-418a-b3e0-e94e765f2416",
   "metadata": {
    "jp-MarkdownHeadingCollapsed": true
   },
   "source": [
    "## Third model set: This model aims to determine whether using only player ACPL ratings is more effective for training than using both player Elo ratings and player ACPL. "
   ]
  },
  {
   "cell_type": "code",
   "execution_count": 361,
   "id": "44a47904-da5f-4a3a-8c32-1ed60d5be321",
   "metadata": {},
   "outputs": [],
   "source": [
    "acpl_data = key_data[[\"white_ACPL\",\"black_ACPL\",\"Result\"]]"
   ]
  },
  {
   "cell_type": "code",
   "execution_count": 365,
   "id": "2971c883-bdd4-43d6-974f-86e26b21ca3c",
   "metadata": {},
   "outputs": [
    {
     "data": {
      "text/html": [
       "<div>\n",
       "<style scoped>\n",
       "    .dataframe tbody tr th:only-of-type {\n",
       "        vertical-align: middle;\n",
       "    }\n",
       "\n",
       "    .dataframe tbody tr th {\n",
       "        vertical-align: top;\n",
       "    }\n",
       "\n",
       "    .dataframe thead th {\n",
       "        text-align: right;\n",
       "    }\n",
       "</style>\n",
       "<table border=\"1\" class=\"dataframe\">\n",
       "  <thead>\n",
       "    <tr style=\"text-align: right;\">\n",
       "      <th></th>\n",
       "      <th>white_ACPL</th>\n",
       "      <th>black_ACPL</th>\n",
       "      <th>Result</th>\n",
       "    </tr>\n",
       "  </thead>\n",
       "  <tbody>\n",
       "    <tr>\n",
       "      <th>0</th>\n",
       "      <td>36</td>\n",
       "      <td>84</td>\n",
       "      <td>2</td>\n",
       "    </tr>\n",
       "    <tr>\n",
       "      <th>1</th>\n",
       "      <td>54</td>\n",
       "      <td>41</td>\n",
       "      <td>1</td>\n",
       "    </tr>\n",
       "    <tr>\n",
       "      <th>2</th>\n",
       "      <td>110</td>\n",
       "      <td>54</td>\n",
       "      <td>0</td>\n",
       "    </tr>\n",
       "    <tr>\n",
       "      <th>3</th>\n",
       "      <td>46</td>\n",
       "      <td>53</td>\n",
       "      <td>2</td>\n",
       "    </tr>\n",
       "    <tr>\n",
       "      <th>4</th>\n",
       "      <td>28</td>\n",
       "      <td>56</td>\n",
       "      <td>2</td>\n",
       "    </tr>\n",
       "    <tr>\n",
       "      <th>...</th>\n",
       "      <td>...</td>\n",
       "      <td>...</td>\n",
       "      <td>...</td>\n",
       "    </tr>\n",
       "    <tr>\n",
       "      <th>1511</th>\n",
       "      <td>72</td>\n",
       "      <td>134</td>\n",
       "      <td>2</td>\n",
       "    </tr>\n",
       "    <tr>\n",
       "      <th>1512</th>\n",
       "      <td>72</td>\n",
       "      <td>39</td>\n",
       "      <td>0</td>\n",
       "    </tr>\n",
       "    <tr>\n",
       "      <th>1513</th>\n",
       "      <td>106</td>\n",
       "      <td>87</td>\n",
       "      <td>0</td>\n",
       "    </tr>\n",
       "    <tr>\n",
       "      <th>1514</th>\n",
       "      <td>69</td>\n",
       "      <td>99</td>\n",
       "      <td>2</td>\n",
       "    </tr>\n",
       "    <tr>\n",
       "      <th>1515</th>\n",
       "      <td>64</td>\n",
       "      <td>20</td>\n",
       "      <td>0</td>\n",
       "    </tr>\n",
       "  </tbody>\n",
       "</table>\n",
       "<p>1516 rows × 3 columns</p>\n",
       "</div>"
      ],
      "text/plain": [
       "      white_ACPL  black_ACPL  Result\n",
       "0             36          84       2\n",
       "1             54          41       1\n",
       "2            110          54       0\n",
       "3             46          53       2\n",
       "4             28          56       2\n",
       "...          ...         ...     ...\n",
       "1511          72         134       2\n",
       "1512          72          39       0\n",
       "1513         106          87       0\n",
       "1514          69          99       2\n",
       "1515          64          20       0\n",
       "\n",
       "[1516 rows x 3 columns]"
      ]
     },
     "execution_count": 365,
     "metadata": {},
     "output_type": "execute_result"
    }
   ],
   "source": [
    "acpl_data # all looks good"
   ]
  },
  {
   "cell_type": "code",
   "execution_count": 367,
   "id": "2335f6ba-26c2-4790-8878-22cea70a1c33",
   "metadata": {},
   "outputs": [],
   "source": [
    "X_train, X_test, y_train, y_test = train_test_split(X, y, test_size=0.3, random_state=407) # 70/30 train test split"
   ]
  },
  {
   "cell_type": "markdown",
   "id": "c4dc00c5-513e-4140-b1f8-0486778c6c32",
   "metadata": {},
   "source": [
    "### Naïve Bayesian Classifier"
   ]
  },
  {
   "cell_type": "code",
   "execution_count": 370,
   "id": "832eec1c-2649-4d44-a168-129ac53e85eb",
   "metadata": {},
   "outputs": [
    {
     "name": "stdout",
     "output_type": "stream",
     "text": [
      "Accuracy: 0.5428571428571428\n"
     ]
    }
   ],
   "source": [
    "#Create a Gaussian Classifier\n",
    "gnb = GaussianNB()\n",
    "\n",
    "#Train model using the training sets\n",
    "gnb.fit(X_train, y_train)\n",
    "\n",
    "#predict the response for test dataset\n",
    "y_predNB = gnb.predict(X_test)\n",
    "print(\"Accuracy:\",metrics.accuracy_score(y_test, y_predNB))"
   ]
  },
  {
   "cell_type": "code",
   "execution_count": 372,
   "id": "91b5cab5-0356-4e84-93b3-0279ec86ed0b",
   "metadata": {},
   "outputs": [
    {
     "data": {
      "image/png": "[encoded data removed]",
      "text/plain": [
       "<Figure size 640x480 with 2 Axes>"
      ]
     },
     "metadata": {},
     "output_type": "display_data"
    }
   ],
   "source": [
    "#Confusion Matrix\n",
    "conf_mat = confusion_matrix(y_test, y_predNB)\n",
    "cm_display = ConfusionMatrixDisplay(conf_mat).plot()"
   ]
  },
  {
   "cell_type": "code",
   "execution_count": 377,
   "id": "d23bcbfb-1aaa-4016-8e2b-6251cc447825",
   "metadata": {},
   "outputs": [
    {
     "name": "stdout",
     "output_type": "stream",
     "text": [
      "              precision    recall  f1-score   support\n",
      "\n",
      "           0       0.83      0.10      0.17       198\n",
      "           1       0.00      0.00      0.00        26\n",
      "           2       0.53      0.99      0.69       231\n",
      "\n",
      "    accuracy                           0.54       455\n",
      "   macro avg       0.45      0.36      0.29       455\n",
      "weighted avg       0.63      0.54      0.42       455\n",
      "\n"
     ]
    },
    {
     "name": "stderr",
     "output_type": "stream",
     "text": [
      "/opt/anaconda3/lib/python3.12/site-packages/sklearn/metrics/_classification.py:1509: UndefinedMetricWarning: Precision is ill-defined and being set to 0.0 in labels with no predicted samples. Use `zero_division` parameter to control this behavior.\n",
      "  _warn_prf(average, modifier, f\"{metric.capitalize()} is\", len(result))\n",
      "/opt/anaconda3/lib/python3.12/site-packages/sklearn/metrics/_classification.py:1509: UndefinedMetricWarning: Precision is ill-defined and being set to 0.0 in labels with no predicted samples. Use `zero_division` parameter to control this behavior.\n",
      "  _warn_prf(average, modifier, f\"{metric.capitalize()} is\", len(result))\n",
      "/opt/anaconda3/lib/python3.12/site-packages/sklearn/metrics/_classification.py:1509: UndefinedMetricWarning: Precision is ill-defined and being set to 0.0 in labels with no predicted samples. Use `zero_division` parameter to control this behavior.\n",
      "  _warn_prf(average, modifier, f\"{metric.capitalize()} is\", len(result))\n"
     ]
    }
   ],
   "source": [
    "#Look at the other results\n",
    "print(metrics.classification_report(y_test,y_predNB))"
   ]
  },
  {
   "cell_type": "markdown",
   "id": "dd89effa-0dce-4c3d-8f4d-dba5af420bdf",
   "metadata": {},
   "source": [
    "### Discision Tree"
   ]
  },
  {
   "cell_type": "code",
   "execution_count": 380,
   "id": "a26fee93-6d69-4824-8935-2f1c96562ed9",
   "metadata": {},
   "outputs": [
    {
     "name": "stdout",
     "output_type": "stream",
     "text": [
      "Accuracy: 0.5582417582417583\n"
     ]
    }
   ],
   "source": [
    "# Create Decision Tree classifer object\n",
    "oneTree = DecisionTreeClassifier()\n",
    "# Train Decision Tree Classifer\n",
    "oneTree.fit(X_train,y_train)\n",
    "y_predDT = oneTree.predict(X_test)\n",
    "# Model Accuracy, how often is the classifier correct?\n",
    "print(f\"Accuracy: {metrics.accuracy_score(y_test, y_predDT)}\")"
   ]
  },
  {
   "cell_type": "code",
   "execution_count": 382,
   "id": "c890c871-7bbc-40c3-9689-ce42818517fd",
   "metadata": {},
   "outputs": [
    {
     "data": {
      "image/png": "[encoded data removed]",
      "text/plain": [
       "<Figure size 640x480 with 2 Axes>"
      ]
     },
     "metadata": {},
     "output_type": "display_data"
    }
   ],
   "source": [
    "conf_mat = confusion_matrix(y_test, y_predDT)\n",
    "cm_display = ConfusionMatrixDisplay(conf_mat).plot()"
   ]
  },
  {
   "cell_type": "markdown",
   "id": "d29925f0-c04e-46e3-ae20-53610111ff01",
   "metadata": {},
   "source": [
    "### KNN"
   ]
  },
  {
   "cell_type": "code",
   "execution_count": 387,
   "id": "980847cf-5e7d-4d92-b0e6-5c497d7bbe88",
   "metadata": {},
   "outputs": [
    {
     "name": "stdout",
     "output_type": "stream",
     "text": [
      "Accuracy: 0.7648351648351648\n"
     ]
    }
   ],
   "source": [
    "#Fix data for KNN\n",
    "# Import module to standardize the scale\n",
    "from sklearn.preprocessing import StandardScaler\n",
    "# Create instance (i.e. object) of the standard scaler\n",
    "scaler = StandardScaler()\n",
    "# Fit the object to all the data except the Target Class or Outcome\n",
    "# use the .drop() method to gather all features except Target Class/outcome\n",
    "# axis -> argument refers to columns; a 0 would represent rows a 1 is column\n",
    "scaler.fit(acpl_data.drop('Result', axis=1))\n",
    "# Use scaler object to conduct a transforms\n",
    "scaled_features = scaler.transform(acpl_data.drop('Result',axis=1))\n",
    "#Here we have the normalized dataset, minus the target/output column which is the last col\n",
    "data_feat = pd.DataFrame(scaled_features, columns= acpl_data.columns[:-1])\n",
    "#split dataset in features and target variable\n",
    "X = data_feat\n",
    "y = data['Result'] # Target variable\n",
    "# Split dataset into training set and test set\n",
    "X2_train, X2_test, y2_train, y2_test = train_test_split(X, y, test_size=0.3, random_state=1) # 70% training and 30% test\n",
    "\n",
    "weightedChebKNN = KNeighborsClassifier(n_neighbors=3,weights='distance', metric='chebyshev')\n",
    "weightedChebKNN .fit(X2_train,y2_train)\n",
    "y_predKNN = weightedChebKNN.predict(X2_test)\n",
    "# Model Accuracy, how often is the classifier correct?\n",
    "print(\"Accuracy:\",metrics.accuracy_score(y2_test, y_predKNN)) "
   ]
  },
  {
   "cell_type": "code",
   "execution_count": 389,
   "id": "e04ed3bf-8db7-4d95-a616-f21080d8bf9d",
   "metadata": {},
   "outputs": [
    {
     "data": {
      "image/png": "[encoded data removed]",
      "text/plain": [
       "<Figure size 640x480 with 2 Axes>"
      ]
     },
     "metadata": {},
     "output_type": "display_data"
    }
   ],
   "source": [
    "conf_mat = confusion_matrix(y2_test, y_predKNN)\n",
    "cm_display = ConfusionMatrixDisplay(conf_mat).plot()"
   ]
  },
  {
   "cell_type": "markdown",
   "id": "e453ac15-9503-4b0c-9907-4fbf966f94e8",
   "metadata": {},
   "source": [
    "### Cross validation"
   ]
  },
  {
   "cell_type": "code",
   "execution_count": 392,
   "id": "4fbcb786-3639-471a-b189-f5b238e34652",
   "metadata": {},
   "outputs": [
    {
     "name": "stdout",
     "output_type": "stream",
     "text": [
      "Training F1-Score (Mean): 0.9891659423211069 (Std Dev: 0.0012162718853966584) CV: 0.12295933708985582%\n",
      "Testing F1-Score (Mean): 0.7222641854392288 (Std Dev: 0.040266375814892674) CV: 5.575020418658248% \n"
     ]
    }
   ],
   "source": [
    "# Initialize the KFold cross-validator\n",
    "kf = KFold(n_splits=10, shuffle = True, random_state = 1)\n",
    "\n",
    "# Initialize the model (e.g., Decision Tree)\n",
    "model = DecisionTreeClassifier(random_state=1)\n",
    "\n",
    "train_f1_scores = []\n",
    "test_f1_scores = []\n",
    "\n",
    "# Loop through the folds manually\n",
    "for train_index, test_index in kf.split(X):\n",
    "    X_train, X_test = X.iloc[train_index], X.iloc[test_index]\n",
    "    y_train, y_test = y.iloc[train_index], y.iloc[test_index]\n",
    "    \n",
    "    # Train the model on the training data\n",
    "    model.fit(X_train, y_train)\n",
    "    \n",
    "    # Get predictions for training and test sets\n",
    "    y_train_pred = model.predict(X_train)\n",
    "    y_test_pred = model.predict(X_test)\n",
    "    \n",
    "    # Calculate training and testing F1-score (weighted for multi-class)\n",
    "    train_f1 = f1_score(y_train, y_train_pred, average='weighted')\n",
    "    test_f1 = f1_score(y_test, y_test_pred, average='weighted')\n",
    "    \n",
    "    train_f1_scores.append(train_f1)\n",
    "    test_f1_scores.append(test_f1)\n",
    "    \n",
    "# Calculate statistics for training F1-Score\n",
    "train_f1_mean = np.mean(train_f1_scores)\n",
    "train_f1_std = np.std(train_f1_scores)\n",
    "train_f1_cv = (train_f1_std / train_f1_mean) * 100\n",
    "\n",
    "# Calculate statistics for testing F1-Score\n",
    "test_f1_mean = np.mean(test_f1_scores)\n",
    "test_f1_std = np.std(test_f1_scores)\n",
    "test_f1_cv = (test_f1_std / test_f1_mean) * 100\n",
    "\n",
    "# Print the results for training F1-Score\n",
    "print(f\"Training F1-Score (Mean): {train_f1_mean} (Std Dev: {train_f1_std}) CV: {train_f1_cv}%\")\n",
    "# Print the results for testing F1-Score\n",
    "print(f\"Testing F1-Score (Mean): {test_f1_mean} (Std Dev: {test_f1_std}) CV: {test_f1_cv}% \")"
   ]
  },
  {
   "cell_type": "code",
   "execution_count": 394,
   "id": "4e86fbf7-184f-4a6f-a51e-0bc346b623dc",
   "metadata": {},
   "outputs": [
    {
     "name": "stdout",
     "output_type": "stream",
     "text": [
      "Training F1-Score (Mean): 0.989238681792371 (Std Dev: 0.0009261930932659555) CV: 0.09362685773546733%\n",
      "Testing F1-Score (Mean): 0.7391950856688168 (Std Dev: 0.037781953764592174) CV: 5.111229024257841%\n"
     ]
    }
   ],
   "source": [
    "\n",
    "model = DecisionTreeClassifier(random_state=1)\n",
    "\n",
    "# Perform cross-validation and get training and testing F1 scores\n",
    "scoring = {'train_f1': 'f1_weighted', 'test_f1': 'f1_weighted'}\n",
    "results = cross_validate(model, X, y, cv=10, scoring=scoring, return_train_score=True)\n",
    "#print(results.keys()) #debugging\n",
    "# Calculate mean and standard deviation for both training and testing F1 scores\n",
    "train_f1_mean = results['train_train_f1'].mean()  \n",
    "train_f1_std = results['train_train_f1'].std()\n",
    "\n",
    "test_f1_mean = results['test_test_f1'].mean()  \n",
    "test_f1_std = results['test_test_f1'].std()\n",
    "\n",
    "# Print the mean, std, and CV for training and testing F1-scores\n",
    "print(f\"Training F1-Score (Mean): {train_f1_mean} (Std Dev: {train_f1_std}) CV: {train_f1_std/train_f1_mean * 100}%\")\n",
    "print(f\"Testing F1-Score (Mean): {test_f1_mean} (Std Dev: {test_f1_std}) CV: {test_f1_std/test_f1_mean * 100}%\")\n"
   ]
  },
  {
   "cell_type": "markdown",
   "id": "db736604-464d-4413-9853-077102d354f6",
   "metadata": {},
   "source": [
    "### Leave one out cross validation"
   ]
  },
  {
   "cell_type": "code",
   "execution_count": 399,
   "id": "04a601b0-1c65-48fb-9c90-700e683cb667",
   "metadata": {},
   "outputs": [
    {
     "name": "stdout",
     "output_type": "stream",
     "text": [
      "Training F1-Score (Mean): 0.9881426682114468 (Std Dev: 9.61359477123885e-05) CV: 0.00972895420925361%\n",
      "Testing F1-Score (Mean): 0.7295514511873351 (Std Dev: 0.44419154793600973) CV: 60.885568415098625%\n"
     ]
    }
   ],
   "source": [
    "# Initialize Leave-One-Out cross-validator\n",
    "loo = LeaveOneOut()\n",
    "\n",
    "# Initialize the model (e.g., Decision Tree)\n",
    "model = DecisionTreeClassifier(random_state=1)\n",
    "\n",
    "train_f1_scores = []\n",
    "test_f1_scores = []\n",
    "\n",
    "# Loop through the folds manually\n",
    "for train_index, test_index in loo.split(X):\n",
    "    # Use .iloc if X and y are DataFrames/Series, else use standard indexing\n",
    "    X_train, X_test = X.iloc[train_index], X.iloc[test_index]\n",
    "    y_train, y_test = y.iloc[train_index], y.iloc[test_index]\n",
    "    \n",
    "    # Train the model on the training data\n",
    "    model.fit(X_train, y_train)\n",
    "    \n",
    "    # Get predictions for training and test sets\n",
    "    y_train_pred = model.predict(X_train)\n",
    "    y_test_pred = model.predict(X_test)\n",
    "    \n",
    "    # Calculate training and testing F1-score (weighted for multi-class)\n",
    "    train_f1 = f1_score(y_train, y_train_pred, average='weighted')\n",
    "    test_f1 = f1_score(y_test, y_test_pred, average='weighted')\n",
    "    \n",
    "    train_f1_scores.append(train_f1)\n",
    "    test_f1_scores.append(test_f1)\n",
    "\n",
    "# Calculate statistics for training F1-Score\n",
    "train_f1_mean = np.mean(train_f1_scores)\n",
    "train_f1_std = np.std(train_f1_scores)\n",
    "train_f1_cv = (train_f1_std / train_f1_mean) * 100\n",
    "\n",
    "# Calculate statistics for testing F1-Score\n",
    "test_f1_mean = np.mean(test_f1_scores)\n",
    "test_f1_std = np.std(test_f1_scores)\n",
    "test_f1_cv = (test_f1_std / test_f1_mean) * 100\n",
    "\n",
    "# Print results for Training and Testing F1-Score in one line\n",
    "print(f\"Training F1-Score (Mean): {train_f1_mean} (Std Dev: {train_f1_std}) CV: {train_f1_cv}%\")\n",
    "print(f\"Testing F1-Score (Mean): {test_f1_mean} (Std Dev: {test_f1_std}) CV: {test_f1_cv}%\")"
   ]
  },
  {
   "cell_type": "markdown",
   "id": "a10ee2a3-a744-409a-84e3-4a2456dace94",
   "metadata": {},
   "source": [
    "### Random Split"
   ]
  },
  {
   "cell_type": "code",
   "execution_count": 402,
   "id": "c0cb108e-e39a-412e-977f-0434c29cf071",
   "metadata": {},
   "outputs": [
    {
     "name": "stdout",
     "output_type": "stream",
     "text": [
      "Training F1-Score (Mean): 0.9909668590416892 (Std Dev: 0.0015343937115424573) CV: 0.15483804504080864%\n",
      "Testing F1-Score (Mean): 0.7253181607875928 (Std Dev: 0.01575625221938341) CV: 2.1723228606704605%\n"
     ]
    }
   ],
   "source": [
    "# Initialize the ShuffleSplit cross-validator\n",
    "rs = ShuffleSplit(n_splits=10, test_size=0.3, random_state=1)\n",
    "\n",
    "# Initialize the model (e.g., Decision Tree)\n",
    "model = DecisionTreeClassifier(random_state=1)\n",
    "\n",
    "train_f1_scores = []\n",
    "test_f1_scores = []\n",
    "\n",
    "# Loop through the random splits\n",
    "for train_index, test_index in rs.split(X):\n",
    "    # Use .iloc if X and y are DataFrames/Series, else use standard indexing\n",
    "    X_train, X_test = X.iloc[train_index], X.iloc[test_index]\n",
    "    y_train, y_test = y.iloc[train_index], y.iloc[test_index]\n",
    "    \n",
    "    # Train the model on the training data\n",
    "    model.fit(X_train, y_train)\n",
    "    \n",
    "    # Get predictions for training and test sets\n",
    "    y_train_pred = model.predict(X_train)\n",
    "    y_test_pred = model.predict(X_test)\n",
    "    \n",
    "    # Calculate training and testing F1-score (weighted for multi-class)\n",
    "    train_f1 = f1_score(y_train, y_train_pred, average='weighted')\n",
    "    test_f1 = f1_score(y_test, y_test_pred, average='weighted')\n",
    "    \n",
    "    train_f1_scores.append(train_f1)\n",
    "    test_f1_scores.append(test_f1)\n",
    "\n",
    "# Calculate statistics for training F1-Score\n",
    "train_f1_mean = np.mean(train_f1_scores)\n",
    "train_f1_std = np.std(train_f1_scores)\n",
    "train_f1_cv = (train_f1_std / train_f1_mean) * 100\n",
    "\n",
    "# Calculate statistics for testing F1-Score\n",
    "test_f1_mean = np.mean(test_f1_scores)\n",
    "test_f1_std = np.std(test_f1_scores)\n",
    "test_f1_cv = (test_f1_std / test_f1_mean) * 100\n",
    "\n",
    "# Print results for Training and Testing F1-Score in one line\n",
    "print(f\"Training F1-Score (Mean): {train_f1_mean} (Std Dev: {train_f1_std}) CV: {train_f1_cv}%\")\n",
    "print(f\"Testing F1-Score (Mean): {test_f1_mean} (Std Dev: {test_f1_std}) CV: {test_f1_cv}%\")"
   ]
  },
  {
   "cell_type": "markdown",
   "id": "fcb4ba68-cebe-4562-bef7-857e95009f92",
   "metadata": {},
   "source": [
    "### Grid search"
   ]
  },
  {
   "cell_type": "code",
   "execution_count": 405,
   "id": "cfec340a-ee47-4549-a197-39a4c7988c99",
   "metadata": {},
   "outputs": [
    {
     "name": "stdout",
     "output_type": "stream",
     "text": [
      "Best Decision Tree F1-Score on Test Set: 0.7753115338456362\n",
      "Best KNN F1-Score on Test Set: 0.7763484331334018\n",
      "Best Decision Tree Parameters: {'criterion': 'gini', 'max_depth': 5, 'min_samples_split': 2}\n",
      "Best KNN Parameters: {'metric': 'manhattan', 'n_neighbors': 16, 'weights': 'uniform'}\n",
      "Best Decision Tree CV Mean F1-Score: 0.7789770602934277 (Std Dev: 0.022558260907689223)  CV: 0.028958825692751336\n",
      "Best KNN CV Mean F1-Score: 0.8052447275997385 (Std Dev: 0.02757949520883768) CV: 0.03424983022372121\n"
     ]
    }
   ],
   "source": [
    "# Split the dataset into 70% training and 30% testing\n",
    "X_train, X_test, y_train, y_test = train_test_split(X, y, test_size=0.3, random_state=1)\n",
    "# Define the F1-score metric for GridSearchCV\n",
    "f1_scorer = make_scorer(f1_score, average='weighted')\n",
    "\n",
    "# Standardize the data only for KNN\n",
    "scaler = StandardScaler()\n",
    "X_train_scaled = scaler.fit_transform(X_train)\n",
    "X_test_scaled = scaler.transform(X_test)\n",
    "\n",
    "# Define parameter grid for Decision Tree\n",
    "param_grid_tree = {\n",
    "    'criterion': ['gini', 'entropy'],\n",
    "    'max_depth': [None, 3, 5, 10],  # None means no limit\n",
    "    'min_samples_split': [2, 5, 10]\n",
    "}\n",
    "\n",
    "# Define parameter grid for KNN\n",
    "param_grid_knn = {\n",
    "    'n_neighbors': list(range(1, 41)),  # Test k values from 1 to 40\n",
    "    'weights': ['uniform', 'distance'],\n",
    "    'metric': ['euclidean', 'manhattan', 'chebyshev']\n",
    "}\n",
    "\n",
    "# Initialize the classifiers\n",
    "decision_tree = DecisionTreeClassifier(random_state=1)\n",
    "knn = KNeighborsClassifier()\n",
    "\n",
    "# Set up GridSearchCV for Decision Tree\n",
    "grid_search_tree = GridSearchCV(estimator=decision_tree, \n",
    "                                param_grid=param_grid_tree, \n",
    "                                cv=5,  # 5-fold cross-validation\n",
    "                                scoring=f1_scorer,  # Use F1-score as the metric\n",
    "                                n_jobs=-1)  # Use all processors\n",
    "\n",
    "# Set up GridSearchCV for KNN\n",
    "grid_search_knn = GridSearchCV(estimator=knn, \n",
    "                               param_grid=param_grid_knn, \n",
    "                               cv=5,  # 5-fold cross-validation\n",
    "                               scoring=f1_scorer,  # Use F1-score as the metric\n",
    "                               n_jobs=-1)  # Use all processors\n",
    "\n",
    "# Perform the grid search for Decision Tree\n",
    "grid_search_tree.fit(X_train, y_train)\n",
    "\n",
    "# Perform the grid search for KNN\n",
    "grid_search_knn.fit(X_train_scaled, y_train)\n",
    "\n",
    "# Get the best models\n",
    "best_tree = grid_search_tree.best_estimator_\n",
    "best_knn = grid_search_knn.best_estimator_\n",
    "\n",
    "# Evaluate both models on the test set\n",
    "y_pred_tree = best_tree.predict(X_test)\n",
    "y_pred_knn = best_knn.predict(X_test_scaled)\n",
    "\n",
    "# Calculate F1-scores on the test set\n",
    "f1_tree = f1_score(y_test, y_pred_tree, average='weighted')\n",
    "f1_knn = f1_score(y_test, y_pred_knn, average='weighted')\n",
    "\n",
    "# Print the results\n",
    "print(f\"Best Decision Tree F1-Score on Test Set: {f1_tree}\")\n",
    "print(f\"Best KNN F1-Score on Test Set: {f1_knn}\")\n",
    "\n",
    "# Print best hyperparameters\n",
    "print(f\"Best Decision Tree Parameters: {grid_search_tree.best_params_}\")\n",
    "print(f\"Best KNN Parameters: {grid_search_knn.best_params_}\")\n",
    "\n",
    "# Extract mean and standard deviation from cv_results_ for Decision Tree\n",
    "tree_mean = grid_search_tree.cv_results_['mean_test_score'][grid_search_tree.best_index_]\n",
    "tree_std = grid_search_tree.cv_results_['std_test_score'][grid_search_tree.best_index_]\n",
    "\n",
    "# Extract mean and standard deviation from cv_results_ for KNN\n",
    "knn_mean = grid_search_knn.cv_results_['mean_test_score'][grid_search_knn.best_index_]\n",
    "knn_std = grid_search_knn.cv_results_['std_test_score'][grid_search_knn.best_index_]\n",
    "\n",
    "# Print mean and standard deviation\n",
    "print(f\"Best Decision Tree CV Mean F1-Score: {tree_mean} (Std Dev: {tree_std})  CV: {tree_std/tree_mean}\")\n",
    "print(f\"Best KNN CV Mean F1-Score: {knn_mean} (Std Dev: {knn_std}) CV: {knn_std/knn_mean}\")"
   ]
  },
  {
   "cell_type": "markdown",
   "id": "d81c055e-b5a4-4c0a-83eb-03ca7da4fb7a",
   "metadata": {},
   "source": [
    "### Best DT and KNN models"
   ]
  },
  {
   "cell_type": "code",
   "execution_count": 408,
   "id": "b93602f0-86bc-40bd-96f4-8ecc2c3771c2",
   "metadata": {},
   "outputs": [
    {
     "name": "stdout",
     "output_type": "stream",
     "text": [
      "Decision Tree F1-scores: [0.79317725 0.76056156 0.79367745 0.77483225 0.80031385]\n",
      "KNN F1-scores: [0.77701023 0.81034403 0.77276456 0.81929637 0.84680845]\n",
      "Decision Tree F1-Score Mean: 0.7845, Std Dev: 0.0147 CV: 1.8700%\n",
      "KNN F1-Score Mean: 0.8052, Std Dev: 0.0276 CV: 3.4250%\n",
      "Paired t-test: t-statistic = -1.2899, p-value = 0.2666\n",
      "Wilcoxon signed-rank test: W-statistic = 3.0000, p-value = 0.3125\n"
     ]
    }
   ],
   "source": [
    "from sklearn.tree import DecisionTreeClassifier\n",
    "from sklearn.neighbors import KNeighborsClassifier\n",
    "from sklearn.model_selection import cross_val_score\n",
    "from sklearn.metrics import make_scorer, f1_score\n",
    "from scipy.stats import ttest_rel, wilcoxon\n",
    "import numpy as np\n",
    "\n",
    "# Best hyperparameters from Grid Search\n",
    "best_tree_params = {'criterion': 'gini', 'max_depth': 5, 'min_samples_split': 2}\n",
    "best_knn_params = {'metric': 'manhattan', 'n_neighbors': 16, 'weights': 'uniform'}\n",
    "\n",
    "# Initialize the models with the best hyperparameters\n",
    "best_tree = DecisionTreeClassifier(**best_tree_params, random_state=1)\n",
    "best_knn = KNeighborsClassifier(**best_knn_params)\n",
    "\n",
    "# Use weighted F1-score as the evaluation metric\n",
    "f1_scorer = make_scorer(f1_score, average='weighted')\n",
    "\n",
    "# Perform cross-validation (5-fold CV here) and collect F1-scores for both models\n",
    "# For KNN, use the standardized dataset (X_train_scaled)\n",
    "f1_scores_tree = cross_val_score(best_tree, X, y, cv=5, scoring=f1_scorer)\n",
    "f1_scores_knn = cross_val_score(best_knn, X_train_scaled, y_train, cv=5, scoring=f1_scorer)\n",
    "\n",
    "# Print the cross-validated F1-scores\n",
    "print(f\"Decision Tree F1-scores: {f1_scores_tree}\")\n",
    "print(f\"KNN F1-scores: {f1_scores_knn}\")\n",
    "\n",
    "# Compute the mean and standard deviation of the F1-scores\n",
    "print(f\"Decision Tree F1-Score Mean: {np.mean(f1_scores_tree):.4f}, Std Dev: {np.std(f1_scores_tree):.4f} CV: { np.std(f1_scores_tree)/np.mean(f1_scores_tree)*100:.4f}%\")\n",
    "print(f\"KNN F1-Score Mean: {np.mean(f1_scores_knn):.4f}, Std Dev: {np.std(f1_scores_knn):.4f} CV: {np.std(f1_scores_knn)/np.mean(f1_scores_knn)*100:.4f}%\")\n",
    "\n",
    "# Perform a paired t-test (parametric test) to see if there's a significant difference\n",
    "t_stat, p_value_t = ttest_rel(f1_scores_tree, f1_scores_knn)\n",
    "print(f\"Paired t-test: t-statistic = {t_stat:.4f}, p-value = {p_value_t:.4f}\")\n",
    "\n",
    "# Perform the Wilcoxon signed-rank test (non-parametric test)\n",
    "w_stat, p_value_w = wilcoxon(f1_scores_tree, f1_scores_knn)\n",
    "print(f\"Wilcoxon signed-rank test: W-statistic = {w_stat:.4f}, p-value = {p_value_w:.4f}\")"
   ]
  },
  {
   "cell_type": "markdown",
   "id": "ce0449c7-1ea7-4fd0-9591-8080ab2b3aab",
   "metadata": {},
   "source": [
    "# Results from all 3 best models"
   ]
  },
  {
   "cell_type": "markdown",
   "id": "e05fac85-5a14-49e1-91ca-81a05b82546c",
   "metadata": {},
   "source": [
    "## ACPL only\n",
    "* Decision Tree F1-scores: [0.79317725 0.76056156 0.79367745 0.77483225 0.80031385]\n",
    "* KNN F1-scores: [0.77701023 0.81034403 0.77276456 0.81929637 0.84680845]\n",
    "* **Decision Tree F1-Score Mean: 0.7845, Std Dev: 0.0147 CV: 1.8700%**\n",
    "* **KNN F1-Score Mean: 0.8052, Std Dev: 0.0276 CV: 3.4250%**\n",
    "* Paired t-test: t-statistic = -1.2899, p-value = 0.2666\n",
    "* Wilcoxon signed-rank test: W-statistic = 3.0000, p-value = 0.3125\n",
    "\n",
    "* Best Decision Tree Parameters: {'criterion': 'gini', 'max_depth': 5, 'min_samples_split': 2}\n",
    "* Best KNN Parameters: {'metric': 'manhattan', 'n_neighbors': 16, 'weights': 'uniform'}\n",
    "\n",
    "## Elo only\n",
    "* Decision Tree F1-scores: [0.56643243 0.55016513 0.63072203 0.5677205  0.55578061]\n",
    "* KNN F1-scores: [0.62026621 0.63528002 0.60188156 0.61865397 0.62981952]\n",
    "* **Decision Tree F1-Score Mean: 0.5742, Std Dev: 0.0290 CV: 5.0562%**\n",
    "* **KNN F1-Score Mean: 0.6212, Std Dev: 0.0114 CV: 1.8399%**\n",
    "* Paired t-test: t-statistic = -2.3511, p-value = 0.0784\n",
    "* Wilcoxon signed-rank test: W-statistic = 1.0000, p-value = 0.1250\n",
    "\n",
    "* Best Decision Tree Parameters: {'criterion': 'gini', 'max_depth': None, 'min_samples_split': 10}\n",
    "* Best KNN Parameters: {'metric': 'manhattan', 'n_neighbors': 16, 'weights': 'uniform'}\n",
    "\n",
    "## Both Elo and ACPL\n",
    "* Decision Tree F1-scores: [0.784235  0.7605498 0.7761701 0.7634448 0.8004578]\n",
    "* KNN F1-scores: [0.77962966 0.80325874 0.77133955 0.78503903 0.82878725]\n",
    "* **Decision Tree F1-Score Mean: 0.7770, Std Dev: 0.0145 CV: 1.8719%**\n",
    "* **KNN F1-Score Mean: 0.7936, Std Dev: 0.0205 CV: 2.5795%**\n",
    "* Paired t-test: t-statistic = -1.7772, p-value = 0.1502\n",
    "* Wilcoxon signed-rank test: W-statistic = 3.0000, p-value = 0.3125\n",
    "\n",
    "* Best Decision Tree Parameters: {'criterion': 'gini', 'max_depth': 5, 'min_samples_split': 10}\n",
    "* Best KNN Parameters: {'metric': 'chebyshev', 'n_neighbors': 18, 'weights': 'uniform'}\n"
   ]
  },
  {
   "cell_type": "code",
   "execution_count": 429,
   "id": "7c7fcb53-d7c3-41a5-9ba1-3616563bab51",
   "metadata": {},
   "outputs": [
    {
     "data": {
      "image/png": "[encoded data removed]",
      "text/plain": [
       "<Figure size 1000x600 with 1 Axes>"
      ]
     },
     "metadata": {},
     "output_type": "display_data"
    }
   ],
   "source": [
    "import matplotlib.pyplot as plt\n",
    "import numpy as np\n",
    "# Data for the three scenarios\n",
    "scenarios = ['ACPL', 'Elo', 'Both ACPL and Elo']\n",
    "models = ['Decision Tree', 'KNN']\n",
    "\n",
    "# Means and standard deviations for the scenarios\n",
    "means = {\n",
    "    'Decision Tree': [0.7845, 0.5742, 0.7770],\n",
    "    'KNN': [0.8052, 0.6212, 0.7936]\n",
    "}\n",
    "std_devs = {\n",
    "    'Decision Tree': [0.0147, 0.0290, 0.0145],\n",
    "    'KNN': [0.0276, 0.0114, 0.0205]\n",
    "}\n",
    "\n",
    "# Create positions for the bars\n",
    "x = np.arange(len(scenarios))  # Scenario positions\n",
    "width = 0.35  # Width of the bars\n",
    "\n",
    "# Create the plot\n",
    "plt.figure(figsize=(10, 6))\n",
    "for i, model in enumerate(models):\n",
    "    plt.bar(x + i * width, means[model], width, yerr=std_devs[model], capsize=5, label=model)\n",
    "\n",
    "# Customize the plot\n",
    "plt.xticks(x + width / 2, scenarios)  # Adjust tick positions for group labels\n",
    "plt.xlabel('Scenario')\n",
    "plt.ylabel('F1-Score')\n",
    "plt.title('F1-Scores with Standard Deviations Across Scenarios')\n",
    "plt.legend(title='Model')\n",
    "plt.ylim(0.5, 0.85)\n",
    "\n",
    "# Display the plot\n",
    "plt.show()"
   ]
  },
  {
   "cell_type": "code",
   "execution_count": null,
   "id": "af31d6ee-b7c0-4002-966e-adcd0982c9d3",
   "metadata": {},
   "outputs": [],
   "source": []
  }
 ],
 "metadata": {
  "kernelspec": {
   "display_name": "Python 3 (ipykernel)",
   "language": "python",
   "name": "python3"
  },
  "language_info": {
   "codemirror_mode": {
    "name": "ipython",
    "version": 3
   },
   "file_extension": ".py",
   "mimetype": "text/x-python",
   "name": "python",
   "nbconvert_exporter": "python",
   "pygments_lexer": "ipython3",
   "version": "3.12.2"
  }
 },
 "nbformat": 4,
 "nbformat_minor": 5
}
